{
 "cells": [
  {
   "cell_type": "markdown",
   "metadata": {
    "slideshow": {
     "slide_type": "-"
    }
   },
   "source": [
    "# Task Desription\n",
    "\n",
    "Please read first the following abstract\n",
    "\n",
    "## Abstract\n",
    "                \n",
    "RNA-Seq reveals an unprecedented complexity of the neuroblastoma transcriptome and is suitable for clinical endpoint prediction [ microarray ]\n",
    "\n",
    "### Experiment Description  \n",
    "\n",
    "We generated gene expression profiles from 498 primary neuroblastomas using RNA-Seq and microarrays. We sought to systematically evaluate the capability of RNA deep-sequencing (RNA-Seq)-based classification for clinical endpoint prediction in comparison to microarray-based ones. The neuroblastoma cohort was randomly divided into training and validation sets (**Please note:** <em>in the following we refer to this validation set as test set</em>), and 360 predictive models on six clinical endpoints were generated and evaluated. While prediction performances did not differ considerably between the two technical platforms, the RNA-Seq data processing pipelines, or feature levels (i.e., gene, transcript, and exon junction levels), RNA-Seq models based on the AceView database performed best on most endpoints. Collectively, our study reveals an unprecedented complexity of the neuroblastoma transcriptome, and provides guidelines for the development of gene expression-based predictive classifiers using high-throughput technologies.  Sample clinical characteristics definitions:  \n",
    "\n",
    "* sex: \n",
    "    <ul>\n",
    "    <li>M = male</li>\n",
    "    <li>F = female</li>\n",
    "    </ul>\n",
    "    \n",
    "* age at diagnosis: The age in days at diagnosis \n",
    "    <ul>\n",
    "    <li>integer</li>\n",
    "    </ul>\n",
    "\n",
    "* high risk: Clinically considered as high-risk neuroblastoma\n",
    "    <ul>\n",
    "    <li>yes = 1</li>\n",
    "    <li>no = 0</li>\n",
    "    </ul>\n",
    "\n",
    "\n",
    "* INSS stage: Disease stage according to International Neuroblastoma Staging System ([INSS](https://www.cancer.org/cancer/neuroblastoma/detection-diagnosis-staging/staging.html)) \n",
    "    <ul>\n",
    "    <li>1</li>\n",
    "    <li>2</li>\n",
    "    <li>3</li>\n",
    "    <li>4</li>\n",
    "    <li>4S</li>\n",
    "    </ul>\n",
    "\n",
    "\n",
    "* progression: Occurrence of a tumor progression event\n",
    "    <ul>\n",
    "    <li>yes = 1</li>\n",
    "    <li>no = 0</li>\n",
    "    </ul>\n",
    "\n",
    "\n",
    "\n",
    "* death from disease: Occurrence of death from the disease (yes=1; no=0) \n",
    "    <ul>\n",
    "    <li>yes = 1</li>\n",
    "    <li>no = 0</li>\n",
    "    </ul>\n",
    "\n",
    "\n",
    "\n",
    "\n",
    "\n",
    "Gene expression of 498 neuroblastoma samples was quantified by RNA sequencing as well as by microarray analyses in order to understand the neuroblastoma transcriptome and predict clinical endpoints. \n",
    "\n",
    "\n",
    "## Task\n",
    "\n",
    "The task is to predict the missing values in the validation set (from here on called test set). Do this either with the RNASeq or the Microarray data, or potentially both?\n",
    "\n"
   ]
  },
  {
   "cell_type": "markdown",
   "metadata": {},
   "source": [
    "## Code\n",
    "\n",
    "To make your start a bit easier, here is a small notebook reading the data in. It finishes with a function enabling you to save your predictions for submission. \n",
    "\n",
    "#### from here, the code starts\n",
    "\n",
    "First some imports "
   ]
  },
  {
   "cell_type": "code",
   "execution_count": 3,
   "metadata": {},
   "outputs": [],
   "source": [
    "import pandas as pd\n",
    "import numpy as np\n",
    "\n",
    "import matplotlib.pyplot as plt # plotting and visulisation\n",
    "import seaborn as sns # nicer (easier) visualisation\n",
    "%matplotlib inline\n",
    "\n",
    "\n",
    "# for saving\n",
    "import os,os.path"
   ]
  },
  {
   "cell_type": "markdown",
   "metadata": {},
   "source": [
    "### Setting  up directory and filenames"
   ]
  },
  {
   "cell_type": "code",
   "execution_count": 4,
   "metadata": {},
   "outputs": [],
   "source": [
    "data_dir = '~/Documents/MSc/module 3/grp/data/'.format(os.path.sep)\n",
    "\n",
    "fn_fpkm             = 'log2FPKM.tsv'\n",
    "fn_patient_info     = 'patientInfo.tsv'\n",
    "fn_prop_intensities = 'allProbIntensities.tsv'\n",
    "\n",
    "\n"
   ]
  },
  {
   "cell_type": "code",
   "execution_count": null,
   "metadata": {},
   "outputs": [],
   "source": []
  },
  {
   "cell_type": "markdown",
   "metadata": {},
   "source": [
    "### Load the microarray data\n",
    "\n",
    "This part already sets the indeces in the DataFrame. Please feel free to change as required. "
   ]
  },
  {
   "cell_type": "code",
   "execution_count": 5,
   "metadata": {},
   "outputs": [
    {
     "output_type": "execute_result",
     "data": {
      "text/plain": [
       "ID              NB001     NB002     NB003     NB004     NB005     NB006  \\\n",
       "gene_id                                                                   \n",
       "1/2-SBSRNA4  0.834381  0.743094  0.909414  0.795775  0.905540  0.869154   \n",
       "A1BG         1.910053  0.941996  1.950857  1.989477  1.942946  1.927608   \n",
       "A1BG-AS1     1.453191  0.640614  1.156765  1.525277  1.365043  0.899212   \n",
       "A1CF         0.005102  0.005902  0.005192  0.000000  0.025347  0.005682   \n",
       "A2LD1        0.580151  0.738233  0.927667  0.936497  0.924853  0.739038   \n",
       "\n",
       "ID              NB007     NB008     NB009     NB010  ...     NB489     NB490  \\\n",
       "gene_id                                              ...                       \n",
       "1/2-SBSRNA4  1.811352  0.599240  0.981855  1.066399  ...  0.997977  1.003559   \n",
       "A1BG         1.617745  2.161291  1.436439  2.159797  ...  2.336929  2.836360   \n",
       "A1BG-AS1     1.304178  1.189205  0.771248  1.114787  ...  1.182908  1.367371   \n",
       "A1CF         0.000000  0.000000  0.021880  0.000000  ...  0.024298  0.007295   \n",
       "A2LD1        1.018705  0.546324  0.666877  0.865850  ...  0.673627  1.401265   \n",
       "\n",
       "ID              NB491     NB492     NB493     NB494     NB495     NB496  \\\n",
       "gene_id                                                                   \n",
       "1/2-SBSRNA4  0.842437  1.057873  0.805515  0.491331  0.868249  0.911379   \n",
       "A1BG         1.205317  2.439868  1.649027  1.451425  1.493852  1.641241   \n",
       "A1BG-AS1     0.643751  1.096815  0.925425  0.933275  1.208723  0.904511   \n",
       "A1CF         0.000000  0.006678  0.005746  0.004998  0.004853  0.000000   \n",
       "A2LD1        0.837443  0.939849  0.743496  0.957837  0.812093  0.488748   \n",
       "\n",
       "ID              NB497     NB498  \n",
       "gene_id                          \n",
       "1/2-SBSRNA4  0.660139  1.152988  \n",
       "A1BG         1.994978  1.289534  \n",
       "A1BG-AS1     1.529221  1.102866  \n",
       "A1CF         0.022780  0.018720  \n",
       "A2LD1        1.068072  0.782887  \n",
       "\n",
       "[5 rows x 498 columns]"
      ],
      "text/html": "<div>\n<style scoped>\n    .dataframe tbody tr th:only-of-type {\n        vertical-align: middle;\n    }\n\n    .dataframe tbody tr th {\n        vertical-align: top;\n    }\n\n    .dataframe thead th {\n        text-align: right;\n    }\n</style>\n<table border=\"1\" class=\"dataframe\">\n  <thead>\n    <tr style=\"text-align: right;\">\n      <th>ID</th>\n      <th>NB001</th>\n      <th>NB002</th>\n      <th>NB003</th>\n      <th>NB004</th>\n      <th>NB005</th>\n      <th>NB006</th>\n      <th>NB007</th>\n      <th>NB008</th>\n      <th>NB009</th>\n      <th>NB010</th>\n      <th>...</th>\n      <th>NB489</th>\n      <th>NB490</th>\n      <th>NB491</th>\n      <th>NB492</th>\n      <th>NB493</th>\n      <th>NB494</th>\n      <th>NB495</th>\n      <th>NB496</th>\n      <th>NB497</th>\n      <th>NB498</th>\n    </tr>\n    <tr>\n      <th>gene_id</th>\n      <th></th>\n      <th></th>\n      <th></th>\n      <th></th>\n      <th></th>\n      <th></th>\n      <th></th>\n      <th></th>\n      <th></th>\n      <th></th>\n      <th></th>\n      <th></th>\n      <th></th>\n      <th></th>\n      <th></th>\n      <th></th>\n      <th></th>\n      <th></th>\n      <th></th>\n      <th></th>\n      <th></th>\n    </tr>\n  </thead>\n  <tbody>\n    <tr>\n      <th>1/2-SBSRNA4</th>\n      <td>0.834381</td>\n      <td>0.743094</td>\n      <td>0.909414</td>\n      <td>0.795775</td>\n      <td>0.905540</td>\n      <td>0.869154</td>\n      <td>1.811352</td>\n      <td>0.599240</td>\n      <td>0.981855</td>\n      <td>1.066399</td>\n      <td>...</td>\n      <td>0.997977</td>\n      <td>1.003559</td>\n      <td>0.842437</td>\n      <td>1.057873</td>\n      <td>0.805515</td>\n      <td>0.491331</td>\n      <td>0.868249</td>\n      <td>0.911379</td>\n      <td>0.660139</td>\n      <td>1.152988</td>\n    </tr>\n    <tr>\n      <th>A1BG</th>\n      <td>1.910053</td>\n      <td>0.941996</td>\n      <td>1.950857</td>\n      <td>1.989477</td>\n      <td>1.942946</td>\n      <td>1.927608</td>\n      <td>1.617745</td>\n      <td>2.161291</td>\n      <td>1.436439</td>\n      <td>2.159797</td>\n      <td>...</td>\n      <td>2.336929</td>\n      <td>2.836360</td>\n      <td>1.205317</td>\n      <td>2.439868</td>\n      <td>1.649027</td>\n      <td>1.451425</td>\n      <td>1.493852</td>\n      <td>1.641241</td>\n      <td>1.994978</td>\n      <td>1.289534</td>\n    </tr>\n    <tr>\n      <th>A1BG-AS1</th>\n      <td>1.453191</td>\n      <td>0.640614</td>\n      <td>1.156765</td>\n      <td>1.525277</td>\n      <td>1.365043</td>\n      <td>0.899212</td>\n      <td>1.304178</td>\n      <td>1.189205</td>\n      <td>0.771248</td>\n      <td>1.114787</td>\n      <td>...</td>\n      <td>1.182908</td>\n      <td>1.367371</td>\n      <td>0.643751</td>\n      <td>1.096815</td>\n      <td>0.925425</td>\n      <td>0.933275</td>\n      <td>1.208723</td>\n      <td>0.904511</td>\n      <td>1.529221</td>\n      <td>1.102866</td>\n    </tr>\n    <tr>\n      <th>A1CF</th>\n      <td>0.005102</td>\n      <td>0.005902</td>\n      <td>0.005192</td>\n      <td>0.000000</td>\n      <td>0.025347</td>\n      <td>0.005682</td>\n      <td>0.000000</td>\n      <td>0.000000</td>\n      <td>0.021880</td>\n      <td>0.000000</td>\n      <td>...</td>\n      <td>0.024298</td>\n      <td>0.007295</td>\n      <td>0.000000</td>\n      <td>0.006678</td>\n      <td>0.005746</td>\n      <td>0.004998</td>\n      <td>0.004853</td>\n      <td>0.000000</td>\n      <td>0.022780</td>\n      <td>0.018720</td>\n    </tr>\n    <tr>\n      <th>A2LD1</th>\n      <td>0.580151</td>\n      <td>0.738233</td>\n      <td>0.927667</td>\n      <td>0.936497</td>\n      <td>0.924853</td>\n      <td>0.739038</td>\n      <td>1.018705</td>\n      <td>0.546324</td>\n      <td>0.666877</td>\n      <td>0.865850</td>\n      <td>...</td>\n      <td>0.673627</td>\n      <td>1.401265</td>\n      <td>0.837443</td>\n      <td>0.939849</td>\n      <td>0.743496</td>\n      <td>0.957837</td>\n      <td>0.812093</td>\n      <td>0.488748</td>\n      <td>1.068072</td>\n      <td>0.782887</td>\n    </tr>\n  </tbody>\n</table>\n<p>5 rows × 498 columns</p>\n</div>"
     },
     "metadata": {},
     "execution_count": 5
    }
   ],
   "source": [
    "df_fpkm = pd.read_csv('{}/{}'.format(data_dir,fn_fpkm),sep='\\t',).rename({'00gene_id':'gene_id'},axis=1)\n",
    "df_fpkm = df_fpkm.set_index(['gene_id'])\n",
    "df_fpkm.columns.name = 'ID'\n",
    "\n",
    "df_fpkm.head()"
   ]
  },
  {
   "cell_type": "markdown",
   "metadata": {},
   "source": [
    "### Load the RNASeq data\n",
    "\n",
    "This part already sets the indeces in the DataFrame. Please feel free to change as required. "
   ]
  },
  {
   "cell_type": "code",
   "execution_count": 6,
   "metadata": {},
   "outputs": [
    {
     "output_type": "execute_result",
     "data": {
      "text/plain": [
       "ID                  GeneSymbols  NB001  NB002  NB003  NB004  NB005  NB006  \\\n",
       "Reporter.Identifier                                                         \n",
       "28913                       NaN  14.99  14.94  12.48  14.63  11.89  15.09   \n",
       "27262                       NaN   9.20  10.41   9.27   8.83   7.97  10.33   \n",
       "3180                        NaN   5.06   5.26   6.45   2.89   2.00   4.80   \n",
       "41426                     MBL1P   7.45   8.68   6.30   7.30   6.26   7.50   \n",
       "37033                       NaN   6.74   6.63   6.75   6.20   6.57   6.01   \n",
       "\n",
       "ID                   NB007  NB008  NB009  ...  NB489  NB490  NB491  NB492  \\\n",
       "Reporter.Identifier                       ...                               \n",
       "28913                13.07  12.00  11.70  ...  13.62  13.03  14.98  13.36   \n",
       "27262                 9.62   8.72   9.36  ...   6.26   5.93   6.97   5.99   \n",
       "3180                  3.05   6.39   6.43  ...   0.93   0.58   1.26   1.38   \n",
       "41426                 7.43   6.98   8.02  ...   5.35   5.57   5.51   6.30   \n",
       "37033                 6.78   4.80   5.15  ...   4.58   4.61   3.54   4.55   \n",
       "\n",
       "ID                   NB493  NB494  NB495  NB496  NB497  NB498  \n",
       "Reporter.Identifier                                            \n",
       "28913                13.90  13.00  13.79  14.70  14.03  12.31  \n",
       "27262                 7.62   7.76   8.56   7.74   7.57   7.08  \n",
       "3180                  3.49   2.07   2.26   2.29   2.63   2.54  \n",
       "41426                 6.60   6.38   7.49   6.77   8.13   7.11  \n",
       "37033                 4.20   7.16   7.07   5.07   6.28   6.34  \n",
       "\n",
       "[5 rows x 499 columns]"
      ],
      "text/html": "<div>\n<style scoped>\n    .dataframe tbody tr th:only-of-type {\n        vertical-align: middle;\n    }\n\n    .dataframe tbody tr th {\n        vertical-align: top;\n    }\n\n    .dataframe thead th {\n        text-align: right;\n    }\n</style>\n<table border=\"1\" class=\"dataframe\">\n  <thead>\n    <tr style=\"text-align: right;\">\n      <th>ID</th>\n      <th>GeneSymbols</th>\n      <th>NB001</th>\n      <th>NB002</th>\n      <th>NB003</th>\n      <th>NB004</th>\n      <th>NB005</th>\n      <th>NB006</th>\n      <th>NB007</th>\n      <th>NB008</th>\n      <th>NB009</th>\n      <th>...</th>\n      <th>NB489</th>\n      <th>NB490</th>\n      <th>NB491</th>\n      <th>NB492</th>\n      <th>NB493</th>\n      <th>NB494</th>\n      <th>NB495</th>\n      <th>NB496</th>\n      <th>NB497</th>\n      <th>NB498</th>\n    </tr>\n    <tr>\n      <th>Reporter.Identifier</th>\n      <th></th>\n      <th></th>\n      <th></th>\n      <th></th>\n      <th></th>\n      <th></th>\n      <th></th>\n      <th></th>\n      <th></th>\n      <th></th>\n      <th></th>\n      <th></th>\n      <th></th>\n      <th></th>\n      <th></th>\n      <th></th>\n      <th></th>\n      <th></th>\n      <th></th>\n      <th></th>\n      <th></th>\n    </tr>\n  </thead>\n  <tbody>\n    <tr>\n      <th>28913</th>\n      <td>NaN</td>\n      <td>14.99</td>\n      <td>14.94</td>\n      <td>12.48</td>\n      <td>14.63</td>\n      <td>11.89</td>\n      <td>15.09</td>\n      <td>13.07</td>\n      <td>12.00</td>\n      <td>11.70</td>\n      <td>...</td>\n      <td>13.62</td>\n      <td>13.03</td>\n      <td>14.98</td>\n      <td>13.36</td>\n      <td>13.90</td>\n      <td>13.00</td>\n      <td>13.79</td>\n      <td>14.70</td>\n      <td>14.03</td>\n      <td>12.31</td>\n    </tr>\n    <tr>\n      <th>27262</th>\n      <td>NaN</td>\n      <td>9.20</td>\n      <td>10.41</td>\n      <td>9.27</td>\n      <td>8.83</td>\n      <td>7.97</td>\n      <td>10.33</td>\n      <td>9.62</td>\n      <td>8.72</td>\n      <td>9.36</td>\n      <td>...</td>\n      <td>6.26</td>\n      <td>5.93</td>\n      <td>6.97</td>\n      <td>5.99</td>\n      <td>7.62</td>\n      <td>7.76</td>\n      <td>8.56</td>\n      <td>7.74</td>\n      <td>7.57</td>\n      <td>7.08</td>\n    </tr>\n    <tr>\n      <th>3180</th>\n      <td>NaN</td>\n      <td>5.06</td>\n      <td>5.26</td>\n      <td>6.45</td>\n      <td>2.89</td>\n      <td>2.00</td>\n      <td>4.80</td>\n      <td>3.05</td>\n      <td>6.39</td>\n      <td>6.43</td>\n      <td>...</td>\n      <td>0.93</td>\n      <td>0.58</td>\n      <td>1.26</td>\n      <td>1.38</td>\n      <td>3.49</td>\n      <td>2.07</td>\n      <td>2.26</td>\n      <td>2.29</td>\n      <td>2.63</td>\n      <td>2.54</td>\n    </tr>\n    <tr>\n      <th>41426</th>\n      <td>MBL1P</td>\n      <td>7.45</td>\n      <td>8.68</td>\n      <td>6.30</td>\n      <td>7.30</td>\n      <td>6.26</td>\n      <td>7.50</td>\n      <td>7.43</td>\n      <td>6.98</td>\n      <td>8.02</td>\n      <td>...</td>\n      <td>5.35</td>\n      <td>5.57</td>\n      <td>5.51</td>\n      <td>6.30</td>\n      <td>6.60</td>\n      <td>6.38</td>\n      <td>7.49</td>\n      <td>6.77</td>\n      <td>8.13</td>\n      <td>7.11</td>\n    </tr>\n    <tr>\n      <th>37033</th>\n      <td>NaN</td>\n      <td>6.74</td>\n      <td>6.63</td>\n      <td>6.75</td>\n      <td>6.20</td>\n      <td>6.57</td>\n      <td>6.01</td>\n      <td>6.78</td>\n      <td>4.80</td>\n      <td>5.15</td>\n      <td>...</td>\n      <td>4.58</td>\n      <td>4.61</td>\n      <td>3.54</td>\n      <td>4.55</td>\n      <td>4.20</td>\n      <td>7.16</td>\n      <td>7.07</td>\n      <td>5.07</td>\n      <td>6.28</td>\n      <td>6.34</td>\n    </tr>\n  </tbody>\n</table>\n<p>5 rows × 499 columns</p>\n</div>"
     },
     "metadata": {},
     "execution_count": 6
    }
   ],
   "source": [
    "df_prop_intensities = pd.read_csv('{}/{}'.format(data_dir,fn_prop_intensities),sep='\\t').set_index(['Reporter.Identifier'])\n",
    "df_prop_intensities.columns.name = 'ID'\n",
    "\n",
    "df_prop_intensities.head()\n"
   ]
  },
  {
   "cell_type": "code",
   "execution_count": 7,
   "metadata": {},
   "outputs": [],
   "source": [
    "gene_list = [\"KIFB1B2\",\"MYCN\", \"NF1\", \"LET7\", \"TERT\", \"PHOX2B\", \"ALK\", \"ARTX\", \"CD798\", \"SOX9\", \"RPTOR\", \"TP53\", \"PRPN11\", \"NRAS\", \"PIK3CA\", \"FGFR1\", \"BDNF\", \"ASCL1\", \"RET\", \"MSH2\"]\n",
    "genes_of_interest = df_prop_intensities.loc[df_prop_intensities[\"GeneSymbols\"].isin(gene_list)]"
   ]
  },
  {
   "cell_type": "code",
   "execution_count": 47,
   "metadata": {},
   "outputs": [
    {
     "output_type": "execute_result",
     "data": {
      "text/plain": [
       "ID                  GeneSymbols  NB001  NB002  NB003  NB004  NB005  NB006  \\\n",
       "Reporter.Identifier                                                         \n",
       "36700                      TERT   9.28   9.76   9.33   9.29   8.89   9.39   \n",
       "35332                       NF1   8.62   6.44   2.54   5.61   4.41   4.15   \n",
       "40594                      BDNF  10.67  11.39  10.50  11.28   9.82  10.14   \n",
       "813                        TP53   5.65   5.06   5.93   2.96   2.10   4.49   \n",
       "811                        TP53  11.42  11.27  10.31  11.00  11.01  10.94   \n",
       "38444                      TERT   4.67   8.90   6.43   5.72   5.21   7.69   \n",
       "44248                      TERT   9.00  10.31   9.29   8.88   8.83  10.10   \n",
       "44494                       RET  13.26  14.40  12.51  13.43  12.48  14.10   \n",
       "34963                      MSH2  11.20  10.69   8.28   8.48   6.74  11.49   \n",
       "42490                      TP53  11.65  11.92  11.31  11.64  11.34  11.51   \n",
       "36855                    PHOX2B  11.13  11.14  10.41  10.78  10.23  11.26   \n",
       "42910                      TP53   7.14   7.82   6.96   7.49   6.82   7.87   \n",
       "34175                       RET   9.21   9.28   7.86   8.11   7.66   8.56   \n",
       "44328                      TP53   9.12   7.89   8.73   8.86   8.09   8.40   \n",
       "36747                       RET  12.21  12.73  12.82  12.76  12.87  12.74   \n",
       "43552                      TERT  11.99  12.63  12.10  13.23  12.28  12.47   \n",
       "38595                      BDNF  10.04  10.08   9.39   9.34   9.86   9.40   \n",
       "\n",
       "ID                   NB007  NB008  NB009  ...  NB489  NB490  NB491  NB492  \\\n",
       "Reporter.Identifier                       ...                               \n",
       "36700                 9.12   8.30   9.43  ...   9.04   7.95  10.07   8.59   \n",
       "35332                 6.94   2.96   4.15  ...   3.50   5.43   4.52   4.90   \n",
       "40594                10.46  10.75  10.80  ...   9.68   8.60  10.33   9.27   \n",
       "813                   3.10   6.12   6.12  ...   3.32   0.58   1.38   2.07   \n",
       "811                  11.33  10.98  10.58  ...  10.85  11.86  11.14  10.45   \n",
       "38444                 7.72   9.12   8.21  ...   7.35   8.49  11.68   5.61   \n",
       "44248                10.35   9.24  10.11  ...   7.26   8.08   7.95   7.27   \n",
       "44494                13.01  12.32  12.39  ...  12.43  12.60  13.39  12.62   \n",
       "34963                10.06   7.70   9.94  ...   5.00   3.55   4.80   5.43   \n",
       "42490                10.89  11.92  10.83  ...  10.76   9.21  11.43  10.98   \n",
       "36855                11.16  10.92  11.01  ...  10.77  10.14  10.63  10.23   \n",
       "42910                 7.46   7.40   8.62  ...   6.11   6.39   6.43   5.46   \n",
       "34175                 8.86   7.71   8.80  ...   7.63   8.36   7.22   7.83   \n",
       "44328                 8.05   8.77   8.85  ...   8.72   7.34   7.50   8.80   \n",
       "36747                12.44  12.89  13.20  ...  12.00  12.82  12.77  12.79   \n",
       "43552                11.56  12.34  12.67  ...  11.72  11.09  11.75  11.70   \n",
       "38595                 9.24  10.13   9.83  ...   9.52   9.16   9.51   9.32   \n",
       "\n",
       "ID                   NB493  NB494  NB495  NB496  NB497  NB498  \n",
       "Reporter.Identifier                                            \n",
       "36700                 8.44   8.72   9.10   8.84   8.40   8.50  \n",
       "35332                 4.86   5.28   6.06   4.15   6.62   7.09  \n",
       "40594                11.65  10.91  11.55  11.40  11.84  10.88  \n",
       "813                   2.58   3.79   2.41   3.64   3.28   3.81  \n",
       "811                  10.13  10.66  10.80  10.30  10.62  10.88  \n",
       "38444                11.59   5.42   5.31   6.49   6.18   5.27  \n",
       "44248                 8.41   8.25   9.29   9.10   8.89   8.54  \n",
       "44494                14.39  13.89  14.22  14.08  14.36  13.47  \n",
       "34963                 5.93   5.00   6.75   6.20   6.69   9.71  \n",
       "42490                11.21  10.82  11.54  11.42  11.52  10.97  \n",
       "36855                10.96  10.09  10.50  10.68  11.12  10.48  \n",
       "42910                 7.24   7.42   7.45   8.15   7.78   7.42  \n",
       "34175                 8.42   8.75   8.96   8.61   9.05   9.00  \n",
       "44328                 8.30   8.43   9.10   8.54   8.26   7.66  \n",
       "36747                12.62  12.88  12.84  12.46  12.67  11.97  \n",
       "43552                12.76  13.44  13.62  12.13  13.06  11.87  \n",
       "38595                 8.74   8.70   8.95   9.05   9.42   8.60  \n",
       "\n",
       "[17 rows x 499 columns]"
      ],
      "text/html": "<div>\n<style scoped>\n    .dataframe tbody tr th:only-of-type {\n        vertical-align: middle;\n    }\n\n    .dataframe tbody tr th {\n        vertical-align: top;\n    }\n\n    .dataframe thead th {\n        text-align: right;\n    }\n</style>\n<table border=\"1\" class=\"dataframe\">\n  <thead>\n    <tr style=\"text-align: right;\">\n      <th>ID</th>\n      <th>GeneSymbols</th>\n      <th>NB001</th>\n      <th>NB002</th>\n      <th>NB003</th>\n      <th>NB004</th>\n      <th>NB005</th>\n      <th>NB006</th>\n      <th>NB007</th>\n      <th>NB008</th>\n      <th>NB009</th>\n      <th>...</th>\n      <th>NB489</th>\n      <th>NB490</th>\n      <th>NB491</th>\n      <th>NB492</th>\n      <th>NB493</th>\n      <th>NB494</th>\n      <th>NB495</th>\n      <th>NB496</th>\n      <th>NB497</th>\n      <th>NB498</th>\n    </tr>\n    <tr>\n      <th>Reporter.Identifier</th>\n      <th></th>\n      <th></th>\n      <th></th>\n      <th></th>\n      <th></th>\n      <th></th>\n      <th></th>\n      <th></th>\n      <th></th>\n      <th></th>\n      <th></th>\n      <th></th>\n      <th></th>\n      <th></th>\n      <th></th>\n      <th></th>\n      <th></th>\n      <th></th>\n      <th></th>\n      <th></th>\n      <th></th>\n    </tr>\n  </thead>\n  <tbody>\n    <tr>\n      <th>36700</th>\n      <td>TERT</td>\n      <td>9.28</td>\n      <td>9.76</td>\n      <td>9.33</td>\n      <td>9.29</td>\n      <td>8.89</td>\n      <td>9.39</td>\n      <td>9.12</td>\n      <td>8.30</td>\n      <td>9.43</td>\n      <td>...</td>\n      <td>9.04</td>\n      <td>7.95</td>\n      <td>10.07</td>\n      <td>8.59</td>\n      <td>8.44</td>\n      <td>8.72</td>\n      <td>9.10</td>\n      <td>8.84</td>\n      <td>8.40</td>\n      <td>8.50</td>\n    </tr>\n    <tr>\n      <th>35332</th>\n      <td>NF1</td>\n      <td>8.62</td>\n      <td>6.44</td>\n      <td>2.54</td>\n      <td>5.61</td>\n      <td>4.41</td>\n      <td>4.15</td>\n      <td>6.94</td>\n      <td>2.96</td>\n      <td>4.15</td>\n      <td>...</td>\n      <td>3.50</td>\n      <td>5.43</td>\n      <td>4.52</td>\n      <td>4.90</td>\n      <td>4.86</td>\n      <td>5.28</td>\n      <td>6.06</td>\n      <td>4.15</td>\n      <td>6.62</td>\n      <td>7.09</td>\n    </tr>\n    <tr>\n      <th>40594</th>\n      <td>BDNF</td>\n      <td>10.67</td>\n      <td>11.39</td>\n      <td>10.50</td>\n      <td>11.28</td>\n      <td>9.82</td>\n      <td>10.14</td>\n      <td>10.46</td>\n      <td>10.75</td>\n      <td>10.80</td>\n      <td>...</td>\n      <td>9.68</td>\n      <td>8.60</td>\n      <td>10.33</td>\n      <td>9.27</td>\n      <td>11.65</td>\n      <td>10.91</td>\n      <td>11.55</td>\n      <td>11.40</td>\n      <td>11.84</td>\n      <td>10.88</td>\n    </tr>\n    <tr>\n      <th>813</th>\n      <td>TP53</td>\n      <td>5.65</td>\n      <td>5.06</td>\n      <td>5.93</td>\n      <td>2.96</td>\n      <td>2.10</td>\n      <td>4.49</td>\n      <td>3.10</td>\n      <td>6.12</td>\n      <td>6.12</td>\n      <td>...</td>\n      <td>3.32</td>\n      <td>0.58</td>\n      <td>1.38</td>\n      <td>2.07</td>\n      <td>2.58</td>\n      <td>3.79</td>\n      <td>2.41</td>\n      <td>3.64</td>\n      <td>3.28</td>\n      <td>3.81</td>\n    </tr>\n    <tr>\n      <th>811</th>\n      <td>TP53</td>\n      <td>11.42</td>\n      <td>11.27</td>\n      <td>10.31</td>\n      <td>11.00</td>\n      <td>11.01</td>\n      <td>10.94</td>\n      <td>11.33</td>\n      <td>10.98</td>\n      <td>10.58</td>\n      <td>...</td>\n      <td>10.85</td>\n      <td>11.86</td>\n      <td>11.14</td>\n      <td>10.45</td>\n      <td>10.13</td>\n      <td>10.66</td>\n      <td>10.80</td>\n      <td>10.30</td>\n      <td>10.62</td>\n      <td>10.88</td>\n    </tr>\n    <tr>\n      <th>38444</th>\n      <td>TERT</td>\n      <td>4.67</td>\n      <td>8.90</td>\n      <td>6.43</td>\n      <td>5.72</td>\n      <td>5.21</td>\n      <td>7.69</td>\n      <td>7.72</td>\n      <td>9.12</td>\n      <td>8.21</td>\n      <td>...</td>\n      <td>7.35</td>\n      <td>8.49</td>\n      <td>11.68</td>\n      <td>5.61</td>\n      <td>11.59</td>\n      <td>5.42</td>\n      <td>5.31</td>\n      <td>6.49</td>\n      <td>6.18</td>\n      <td>5.27</td>\n    </tr>\n    <tr>\n      <th>44248</th>\n      <td>TERT</td>\n      <td>9.00</td>\n      <td>10.31</td>\n      <td>9.29</td>\n      <td>8.88</td>\n      <td>8.83</td>\n      <td>10.10</td>\n      <td>10.35</td>\n      <td>9.24</td>\n      <td>10.11</td>\n      <td>...</td>\n      <td>7.26</td>\n      <td>8.08</td>\n      <td>7.95</td>\n      <td>7.27</td>\n      <td>8.41</td>\n      <td>8.25</td>\n      <td>9.29</td>\n      <td>9.10</td>\n      <td>8.89</td>\n      <td>8.54</td>\n    </tr>\n    <tr>\n      <th>44494</th>\n      <td>RET</td>\n      <td>13.26</td>\n      <td>14.40</td>\n      <td>12.51</td>\n      <td>13.43</td>\n      <td>12.48</td>\n      <td>14.10</td>\n      <td>13.01</td>\n      <td>12.32</td>\n      <td>12.39</td>\n      <td>...</td>\n      <td>12.43</td>\n      <td>12.60</td>\n      <td>13.39</td>\n      <td>12.62</td>\n      <td>14.39</td>\n      <td>13.89</td>\n      <td>14.22</td>\n      <td>14.08</td>\n      <td>14.36</td>\n      <td>13.47</td>\n    </tr>\n    <tr>\n      <th>34963</th>\n      <td>MSH2</td>\n      <td>11.20</td>\n      <td>10.69</td>\n      <td>8.28</td>\n      <td>8.48</td>\n      <td>6.74</td>\n      <td>11.49</td>\n      <td>10.06</td>\n      <td>7.70</td>\n      <td>9.94</td>\n      <td>...</td>\n      <td>5.00</td>\n      <td>3.55</td>\n      <td>4.80</td>\n      <td>5.43</td>\n      <td>5.93</td>\n      <td>5.00</td>\n      <td>6.75</td>\n      <td>6.20</td>\n      <td>6.69</td>\n      <td>9.71</td>\n    </tr>\n    <tr>\n      <th>42490</th>\n      <td>TP53</td>\n      <td>11.65</td>\n      <td>11.92</td>\n      <td>11.31</td>\n      <td>11.64</td>\n      <td>11.34</td>\n      <td>11.51</td>\n      <td>10.89</td>\n      <td>11.92</td>\n      <td>10.83</td>\n      <td>...</td>\n      <td>10.76</td>\n      <td>9.21</td>\n      <td>11.43</td>\n      <td>10.98</td>\n      <td>11.21</td>\n      <td>10.82</td>\n      <td>11.54</td>\n      <td>11.42</td>\n      <td>11.52</td>\n      <td>10.97</td>\n    </tr>\n    <tr>\n      <th>36855</th>\n      <td>PHOX2B</td>\n      <td>11.13</td>\n      <td>11.14</td>\n      <td>10.41</td>\n      <td>10.78</td>\n      <td>10.23</td>\n      <td>11.26</td>\n      <td>11.16</td>\n      <td>10.92</td>\n      <td>11.01</td>\n      <td>...</td>\n      <td>10.77</td>\n      <td>10.14</td>\n      <td>10.63</td>\n      <td>10.23</td>\n      <td>10.96</td>\n      <td>10.09</td>\n      <td>10.50</td>\n      <td>10.68</td>\n      <td>11.12</td>\n      <td>10.48</td>\n    </tr>\n    <tr>\n      <th>42910</th>\n      <td>TP53</td>\n      <td>7.14</td>\n      <td>7.82</td>\n      <td>6.96</td>\n      <td>7.49</td>\n      <td>6.82</td>\n      <td>7.87</td>\n      <td>7.46</td>\n      <td>7.40</td>\n      <td>8.62</td>\n      <td>...</td>\n      <td>6.11</td>\n      <td>6.39</td>\n      <td>6.43</td>\n      <td>5.46</td>\n      <td>7.24</td>\n      <td>7.42</td>\n      <td>7.45</td>\n      <td>8.15</td>\n      <td>7.78</td>\n      <td>7.42</td>\n    </tr>\n    <tr>\n      <th>34175</th>\n      <td>RET</td>\n      <td>9.21</td>\n      <td>9.28</td>\n      <td>7.86</td>\n      <td>8.11</td>\n      <td>7.66</td>\n      <td>8.56</td>\n      <td>8.86</td>\n      <td>7.71</td>\n      <td>8.80</td>\n      <td>...</td>\n      <td>7.63</td>\n      <td>8.36</td>\n      <td>7.22</td>\n      <td>7.83</td>\n      <td>8.42</td>\n      <td>8.75</td>\n      <td>8.96</td>\n      <td>8.61</td>\n      <td>9.05</td>\n      <td>9.00</td>\n    </tr>\n    <tr>\n      <th>44328</th>\n      <td>TP53</td>\n      <td>9.12</td>\n      <td>7.89</td>\n      <td>8.73</td>\n      <td>8.86</td>\n      <td>8.09</td>\n      <td>8.40</td>\n      <td>8.05</td>\n      <td>8.77</td>\n      <td>8.85</td>\n      <td>...</td>\n      <td>8.72</td>\n      <td>7.34</td>\n      <td>7.50</td>\n      <td>8.80</td>\n      <td>8.30</td>\n      <td>8.43</td>\n      <td>9.10</td>\n      <td>8.54</td>\n      <td>8.26</td>\n      <td>7.66</td>\n    </tr>\n    <tr>\n      <th>36747</th>\n      <td>RET</td>\n      <td>12.21</td>\n      <td>12.73</td>\n      <td>12.82</td>\n      <td>12.76</td>\n      <td>12.87</td>\n      <td>12.74</td>\n      <td>12.44</td>\n      <td>12.89</td>\n      <td>13.20</td>\n      <td>...</td>\n      <td>12.00</td>\n      <td>12.82</td>\n      <td>12.77</td>\n      <td>12.79</td>\n      <td>12.62</td>\n      <td>12.88</td>\n      <td>12.84</td>\n      <td>12.46</td>\n      <td>12.67</td>\n      <td>11.97</td>\n    </tr>\n    <tr>\n      <th>43552</th>\n      <td>TERT</td>\n      <td>11.99</td>\n      <td>12.63</td>\n      <td>12.10</td>\n      <td>13.23</td>\n      <td>12.28</td>\n      <td>12.47</td>\n      <td>11.56</td>\n      <td>12.34</td>\n      <td>12.67</td>\n      <td>...</td>\n      <td>11.72</td>\n      <td>11.09</td>\n      <td>11.75</td>\n      <td>11.70</td>\n      <td>12.76</td>\n      <td>13.44</td>\n      <td>13.62</td>\n      <td>12.13</td>\n      <td>13.06</td>\n      <td>11.87</td>\n    </tr>\n    <tr>\n      <th>38595</th>\n      <td>BDNF</td>\n      <td>10.04</td>\n      <td>10.08</td>\n      <td>9.39</td>\n      <td>9.34</td>\n      <td>9.86</td>\n      <td>9.40</td>\n      <td>9.24</td>\n      <td>10.13</td>\n      <td>9.83</td>\n      <td>...</td>\n      <td>9.52</td>\n      <td>9.16</td>\n      <td>9.51</td>\n      <td>9.32</td>\n      <td>8.74</td>\n      <td>8.70</td>\n      <td>8.95</td>\n      <td>9.05</td>\n      <td>9.42</td>\n      <td>8.60</td>\n    </tr>\n  </tbody>\n</table>\n<p>17 rows × 499 columns</p>\n</div>"
     },
     "metadata": {},
     "execution_count": 47
    }
   ],
   "source": [
    "genes_of_interest.head(20)"
   ]
  },
  {
   "cell_type": "code",
   "execution_count": 8,
   "metadata": {},
   "outputs": [
    {
     "output_type": "execute_result",
     "data": {
      "text/plain": [
       "Reporter.Identifier 36700 35332  40594 813    811   38444  44248  44494  \\\n",
       "ID                                                                        \n",
       "GeneSymbols          TERT   NF1   BDNF  TP53   TP53  TERT   TERT    RET   \n",
       "NB001                9.28  8.62  10.67  5.65  11.42  4.67      9  13.26   \n",
       "NB002                9.76  6.44  11.39  5.06  11.27   8.9  10.31   14.4   \n",
       "NB003                9.33  2.54   10.5  5.93  10.31  6.43   9.29  12.51   \n",
       "NB004                9.29  5.61  11.28  2.96     11  5.72   8.88  13.43   \n",
       "...                   ...   ...    ...   ...    ...   ...    ...    ...   \n",
       "NB494                8.72  5.28  10.91  3.79  10.66  5.42   8.25  13.89   \n",
       "NB495                 9.1  6.06  11.55  2.41   10.8  5.31   9.29  14.22   \n",
       "NB496                8.84  4.15   11.4  3.64   10.3  6.49    9.1  14.08   \n",
       "NB497                 8.4  6.62  11.84  3.28  10.62  6.18   8.89  14.36   \n",
       "NB498                 8.5  7.09  10.88  3.81  10.88  5.27   8.54  13.47   \n",
       "\n",
       "Reporter.Identifier  34963  42490   36855 42910 34175 44328  36747  43552  \\\n",
       "ID                                                                          \n",
       "GeneSymbols           MSH2   TP53  PHOX2B  TP53   RET  TP53    RET   TERT   \n",
       "NB001                 11.2  11.65   11.13  7.14  9.21  9.12  12.21  11.99   \n",
       "NB002                10.69  11.92   11.14  7.82  9.28  7.89  12.73  12.63   \n",
       "NB003                 8.28  11.31   10.41  6.96  7.86  8.73  12.82   12.1   \n",
       "NB004                 8.48  11.64   10.78  7.49  8.11  8.86  12.76  13.23   \n",
       "...                    ...    ...     ...   ...   ...   ...    ...    ...   \n",
       "NB494                    5  10.82   10.09  7.42  8.75  8.43  12.88  13.44   \n",
       "NB495                 6.75  11.54    10.5  7.45  8.96   9.1  12.84  13.62   \n",
       "NB496                  6.2  11.42   10.68  8.15  8.61  8.54  12.46  12.13   \n",
       "NB497                 6.69  11.52   11.12  7.78  9.05  8.26  12.67  13.06   \n",
       "NB498                 9.71  10.97   10.48  7.42     9  7.66  11.97  11.87   \n",
       "\n",
       "Reporter.Identifier  38595  \n",
       "ID                          \n",
       "GeneSymbols           BDNF  \n",
       "NB001                10.04  \n",
       "NB002                10.08  \n",
       "NB003                 9.39  \n",
       "NB004                 9.34  \n",
       "...                    ...  \n",
       "NB494                  8.7  \n",
       "NB495                 8.95  \n",
       "NB496                 9.05  \n",
       "NB497                 9.42  \n",
       "NB498                  8.6  \n",
       "\n",
       "[499 rows x 17 columns]"
      ],
      "text/html": "<div>\n<style scoped>\n    .dataframe tbody tr th:only-of-type {\n        vertical-align: middle;\n    }\n\n    .dataframe tbody tr th {\n        vertical-align: top;\n    }\n\n    .dataframe thead th {\n        text-align: right;\n    }\n</style>\n<table border=\"1\" class=\"dataframe\">\n  <thead>\n    <tr style=\"text-align: right;\">\n      <th>Reporter.Identifier</th>\n      <th>36700</th>\n      <th>35332</th>\n      <th>40594</th>\n      <th>813</th>\n      <th>811</th>\n      <th>38444</th>\n      <th>44248</th>\n      <th>44494</th>\n      <th>34963</th>\n      <th>42490</th>\n      <th>36855</th>\n      <th>42910</th>\n      <th>34175</th>\n      <th>44328</th>\n      <th>36747</th>\n      <th>43552</th>\n      <th>38595</th>\n    </tr>\n    <tr>\n      <th>ID</th>\n      <th></th>\n      <th></th>\n      <th></th>\n      <th></th>\n      <th></th>\n      <th></th>\n      <th></th>\n      <th></th>\n      <th></th>\n      <th></th>\n      <th></th>\n      <th></th>\n      <th></th>\n      <th></th>\n      <th></th>\n      <th></th>\n      <th></th>\n    </tr>\n  </thead>\n  <tbody>\n    <tr>\n      <th>GeneSymbols</th>\n      <td>TERT</td>\n      <td>NF1</td>\n      <td>BDNF</td>\n      <td>TP53</td>\n      <td>TP53</td>\n      <td>TERT</td>\n      <td>TERT</td>\n      <td>RET</td>\n      <td>MSH2</td>\n      <td>TP53</td>\n      <td>PHOX2B</td>\n      <td>TP53</td>\n      <td>RET</td>\n      <td>TP53</td>\n      <td>RET</td>\n      <td>TERT</td>\n      <td>BDNF</td>\n    </tr>\n    <tr>\n      <th>NB001</th>\n      <td>9.28</td>\n      <td>8.62</td>\n      <td>10.67</td>\n      <td>5.65</td>\n      <td>11.42</td>\n      <td>4.67</td>\n      <td>9</td>\n      <td>13.26</td>\n      <td>11.2</td>\n      <td>11.65</td>\n      <td>11.13</td>\n      <td>7.14</td>\n      <td>9.21</td>\n      <td>9.12</td>\n      <td>12.21</td>\n      <td>11.99</td>\n      <td>10.04</td>\n    </tr>\n    <tr>\n      <th>NB002</th>\n      <td>9.76</td>\n      <td>6.44</td>\n      <td>11.39</td>\n      <td>5.06</td>\n      <td>11.27</td>\n      <td>8.9</td>\n      <td>10.31</td>\n      <td>14.4</td>\n      <td>10.69</td>\n      <td>11.92</td>\n      <td>11.14</td>\n      <td>7.82</td>\n      <td>9.28</td>\n      <td>7.89</td>\n      <td>12.73</td>\n      <td>12.63</td>\n      <td>10.08</td>\n    </tr>\n    <tr>\n      <th>NB003</th>\n      <td>9.33</td>\n      <td>2.54</td>\n      <td>10.5</td>\n      <td>5.93</td>\n      <td>10.31</td>\n      <td>6.43</td>\n      <td>9.29</td>\n      <td>12.51</td>\n      <td>8.28</td>\n      <td>11.31</td>\n      <td>10.41</td>\n      <td>6.96</td>\n      <td>7.86</td>\n      <td>8.73</td>\n      <td>12.82</td>\n      <td>12.1</td>\n      <td>9.39</td>\n    </tr>\n    <tr>\n      <th>NB004</th>\n      <td>9.29</td>\n      <td>5.61</td>\n      <td>11.28</td>\n      <td>2.96</td>\n      <td>11</td>\n      <td>5.72</td>\n      <td>8.88</td>\n      <td>13.43</td>\n      <td>8.48</td>\n      <td>11.64</td>\n      <td>10.78</td>\n      <td>7.49</td>\n      <td>8.11</td>\n      <td>8.86</td>\n      <td>12.76</td>\n      <td>13.23</td>\n      <td>9.34</td>\n    </tr>\n    <tr>\n      <th>...</th>\n      <td>...</td>\n      <td>...</td>\n      <td>...</td>\n      <td>...</td>\n      <td>...</td>\n      <td>...</td>\n      <td>...</td>\n      <td>...</td>\n      <td>...</td>\n      <td>...</td>\n      <td>...</td>\n      <td>...</td>\n      <td>...</td>\n      <td>...</td>\n      <td>...</td>\n      <td>...</td>\n      <td>...</td>\n    </tr>\n    <tr>\n      <th>NB494</th>\n      <td>8.72</td>\n      <td>5.28</td>\n      <td>10.91</td>\n      <td>3.79</td>\n      <td>10.66</td>\n      <td>5.42</td>\n      <td>8.25</td>\n      <td>13.89</td>\n      <td>5</td>\n      <td>10.82</td>\n      <td>10.09</td>\n      <td>7.42</td>\n      <td>8.75</td>\n      <td>8.43</td>\n      <td>12.88</td>\n      <td>13.44</td>\n      <td>8.7</td>\n    </tr>\n    <tr>\n      <th>NB495</th>\n      <td>9.1</td>\n      <td>6.06</td>\n      <td>11.55</td>\n      <td>2.41</td>\n      <td>10.8</td>\n      <td>5.31</td>\n      <td>9.29</td>\n      <td>14.22</td>\n      <td>6.75</td>\n      <td>11.54</td>\n      <td>10.5</td>\n      <td>7.45</td>\n      <td>8.96</td>\n      <td>9.1</td>\n      <td>12.84</td>\n      <td>13.62</td>\n      <td>8.95</td>\n    </tr>\n    <tr>\n      <th>NB496</th>\n      <td>8.84</td>\n      <td>4.15</td>\n      <td>11.4</td>\n      <td>3.64</td>\n      <td>10.3</td>\n      <td>6.49</td>\n      <td>9.1</td>\n      <td>14.08</td>\n      <td>6.2</td>\n      <td>11.42</td>\n      <td>10.68</td>\n      <td>8.15</td>\n      <td>8.61</td>\n      <td>8.54</td>\n      <td>12.46</td>\n      <td>12.13</td>\n      <td>9.05</td>\n    </tr>\n    <tr>\n      <th>NB497</th>\n      <td>8.4</td>\n      <td>6.62</td>\n      <td>11.84</td>\n      <td>3.28</td>\n      <td>10.62</td>\n      <td>6.18</td>\n      <td>8.89</td>\n      <td>14.36</td>\n      <td>6.69</td>\n      <td>11.52</td>\n      <td>11.12</td>\n      <td>7.78</td>\n      <td>9.05</td>\n      <td>8.26</td>\n      <td>12.67</td>\n      <td>13.06</td>\n      <td>9.42</td>\n    </tr>\n    <tr>\n      <th>NB498</th>\n      <td>8.5</td>\n      <td>7.09</td>\n      <td>10.88</td>\n      <td>3.81</td>\n      <td>10.88</td>\n      <td>5.27</td>\n      <td>8.54</td>\n      <td>13.47</td>\n      <td>9.71</td>\n      <td>10.97</td>\n      <td>10.48</td>\n      <td>7.42</td>\n      <td>9</td>\n      <td>7.66</td>\n      <td>11.97</td>\n      <td>11.87</td>\n      <td>8.6</td>\n    </tr>\n  </tbody>\n</table>\n<p>499 rows × 17 columns</p>\n</div>"
     },
     "metadata": {},
     "execution_count": 8
    }
   ],
   "source": [
    "tp_gene_of_i = genes_of_interest.transpose()\n",
    "tp_gene_of_i"
   ]
  },
  {
   "cell_type": "markdown",
   "metadata": {},
   "source": [
    "### Load the patient factors, including the potential endpoints \n",
    "\n",
    "This part already sets the indeces in the DataFrame. Please feel free to change as required. \n",
    "Please note, that the ```FactorValues``` should have a 1-to-1 correspondence to the factors desc ribed in the abstract. "
   ]
  },
  {
   "cell_type": "code",
   "execution_count": 9,
   "metadata": {},
   "outputs": [
    {
     "output_type": "execute_result",
     "data": {
      "text/plain": [
       "FactorValues FactorValue..Sex.  FactorValue..age.at.diagnosis.  \\\n",
       "ID                                                               \n",
       "NB498                   female                             530   \n",
       "NB497                   female                             379   \n",
       "NB496                     male                             132   \n",
       "NB495                     male                             163   \n",
       "NB494                     male                              56   \n",
       "\n",
       "FactorValues  FactorValue..death.from.disease.  FactorValue..high.risk.  \\\n",
       "ID                                                                        \n",
       "NB498                                      NaN                      NaN   \n",
       "NB497                                      0.0                      0.0   \n",
       "NB496                                      NaN                      NaN   \n",
       "NB495                                      0.0                      0.0   \n",
       "NB494                                      NaN                      NaN   \n",
       "\n",
       "FactorValues FactorValue..inss.stage.  FactorValue..progression.  \n",
       "ID                                                                \n",
       "NB498                             NaN                        NaN  \n",
       "NB497                               1                        0.0  \n",
       "NB496                             NaN                        NaN  \n",
       "NB495                               1                        0.0  \n",
       "NB494                             NaN                        NaN  "
      ],
      "text/html": "<div>\n<style scoped>\n    .dataframe tbody tr th:only-of-type {\n        vertical-align: middle;\n    }\n\n    .dataframe tbody tr th {\n        vertical-align: top;\n    }\n\n    .dataframe thead th {\n        text-align: right;\n    }\n</style>\n<table border=\"1\" class=\"dataframe\">\n  <thead>\n    <tr style=\"text-align: right;\">\n      <th>FactorValues</th>\n      <th>FactorValue..Sex.</th>\n      <th>FactorValue..age.at.diagnosis.</th>\n      <th>FactorValue..death.from.disease.</th>\n      <th>FactorValue..high.risk.</th>\n      <th>FactorValue..inss.stage.</th>\n      <th>FactorValue..progression.</th>\n    </tr>\n    <tr>\n      <th>ID</th>\n      <th></th>\n      <th></th>\n      <th></th>\n      <th></th>\n      <th></th>\n      <th></th>\n    </tr>\n  </thead>\n  <tbody>\n    <tr>\n      <th>NB498</th>\n      <td>female</td>\n      <td>530</td>\n      <td>NaN</td>\n      <td>NaN</td>\n      <td>NaN</td>\n      <td>NaN</td>\n    </tr>\n    <tr>\n      <th>NB497</th>\n      <td>female</td>\n      <td>379</td>\n      <td>0.0</td>\n      <td>0.0</td>\n      <td>1</td>\n      <td>0.0</td>\n    </tr>\n    <tr>\n      <th>NB496</th>\n      <td>male</td>\n      <td>132</td>\n      <td>NaN</td>\n      <td>NaN</td>\n      <td>NaN</td>\n      <td>NaN</td>\n    </tr>\n    <tr>\n      <th>NB495</th>\n      <td>male</td>\n      <td>163</td>\n      <td>0.0</td>\n      <td>0.0</td>\n      <td>1</td>\n      <td>0.0</td>\n    </tr>\n    <tr>\n      <th>NB494</th>\n      <td>male</td>\n      <td>56</td>\n      <td>NaN</td>\n      <td>NaN</td>\n      <td>NaN</td>\n      <td>NaN</td>\n    </tr>\n  </tbody>\n</table>\n</div>"
     },
     "metadata": {},
     "execution_count": 9
    }
   ],
   "source": [
    "df_patient_info = pd.read_csv('{}/{}'.format(data_dir,fn_patient_info),sep='\\t').set_index('ID')\n",
    "df_patient_info.columns.name = 'FactorValues'\n",
    "\n",
    "df_patient_info.head()"
   ]
  },
  {
   "cell_type": "markdown",
   "metadata": {},
   "source": [
    "####  Divide into training and external testing\n",
    "\n",
    "As you might have already noticed, we removed some of the factor values for some of the patient **ID**s.\n",
    "Every row, where this information is missing indicate a real validation entry. We can use this information and create two separate DataFrames, one for training, one for the validation (testing). \n",
    "\n",
    "The task is to predict the missing values, either with the RNASeq or the Microarray data, or potentially both?\n",
    "\n"
   ]
  },
  {
   "cell_type": "code",
   "execution_count": 10,
   "metadata": {},
   "outputs": [],
   "source": [
    "df_patient_info_train  = df_patient_info[df_patient_info['FactorValue..death.from.disease.'].notna()]\n",
    "df_patient_info_test   = df_patient_info[df_patient_info['FactorValue..death.from.disease.'].isna()]\n",
    "\n"
   ]
  },
  {
   "cell_type": "code",
   "execution_count": 51,
   "metadata": {},
   "outputs": [
    {
     "output_type": "execute_result",
     "data": {
      "text/plain": [
       "FactorValues FactorValue..Sex.  FactorValue..age.at.diagnosis.  \\\n",
       "ID                                                               \n",
       "NB497                   female                             379   \n",
       "NB495                     male                             163   \n",
       "NB493                     male                             190   \n",
       "NB491                     male                            2326   \n",
       "NB489                   female                             865   \n",
       "NB487                     male                             162   \n",
       "NB485                   female                             712   \n",
       "NB483                   female                             259   \n",
       "NB481                     male                            2045   \n",
       "NB479                   female                            1516   \n",
       "NB477                     male                             323   \n",
       "NB475                     male                            1575   \n",
       "NB473                   female                             146   \n",
       "NB471                   female                              25   \n",
       "NB469                     male                            1022   \n",
       "NB467                     male                            2786   \n",
       "NB465                   female                             137   \n",
       "NB463                   female                               0   \n",
       "NB461                     male                             267   \n",
       "NB459                     male                              34   \n",
       "\n",
       "FactorValues  FactorValue..death.from.disease.  FactorValue..high.risk.  \\\n",
       "ID                                                                        \n",
       "NB497                                      0.0                      0.0   \n",
       "NB495                                      0.0                      0.0   \n",
       "NB493                                      0.0                      0.0   \n",
       "NB491                                      0.0                      1.0   \n",
       "NB489                                      0.0                      1.0   \n",
       "NB487                                      0.0                      1.0   \n",
       "NB485                                      0.0                      1.0   \n",
       "NB483                                      0.0                      0.0   \n",
       "NB481                                      0.0                      1.0   \n",
       "NB479                                      0.0                      0.0   \n",
       "NB477                                      0.0                      0.0   \n",
       "NB475                                      1.0                      1.0   \n",
       "NB473                                      0.0                      0.0   \n",
       "NB471                                      0.0                      0.0   \n",
       "NB469                                      0.0                      1.0   \n",
       "NB467                                      0.0                      1.0   \n",
       "NB465                                      0.0                      1.0   \n",
       "NB463                                      0.0                      0.0   \n",
       "NB461                                      0.0                      1.0   \n",
       "NB459                                      0.0                      1.0   \n",
       "\n",
       "FactorValues FactorValue..inss.stage.  FactorValue..progression.  \n",
       "ID                                                                \n",
       "NB497                               1                        0.0  \n",
       "NB495                               1                        0.0  \n",
       "NB493                               1                        0.0  \n",
       "NB491                               4                        1.0  \n",
       "NB489                               4                        0.0  \n",
       "NB487                               4                        0.0  \n",
       "NB485                               3                        0.0  \n",
       "NB483                               1                        1.0  \n",
       "NB481                               4                        0.0  \n",
       "NB479                               1                        0.0  \n",
       "NB477                               3                        0.0  \n",
       "NB475                               4                        1.0  \n",
       "NB473                               1                        0.0  \n",
       "NB471                               1                        0.0  \n",
       "NB469                               4                        1.0  \n",
       "NB467                               4                        0.0  \n",
       "NB465                               4                        0.0  \n",
       "NB463                               1                        1.0  \n",
       "NB461                               4                        0.0  \n",
       "NB459                               1                        0.0  "
      ],
      "text/html": "<div>\n<style scoped>\n    .dataframe tbody tr th:only-of-type {\n        vertical-align: middle;\n    }\n\n    .dataframe tbody tr th {\n        vertical-align: top;\n    }\n\n    .dataframe thead th {\n        text-align: right;\n    }\n</style>\n<table border=\"1\" class=\"dataframe\">\n  <thead>\n    <tr style=\"text-align: right;\">\n      <th>FactorValues</th>\n      <th>FactorValue..Sex.</th>\n      <th>FactorValue..age.at.diagnosis.</th>\n      <th>FactorValue..death.from.disease.</th>\n      <th>FactorValue..high.risk.</th>\n      <th>FactorValue..inss.stage.</th>\n      <th>FactorValue..progression.</th>\n    </tr>\n    <tr>\n      <th>ID</th>\n      <th></th>\n      <th></th>\n      <th></th>\n      <th></th>\n      <th></th>\n      <th></th>\n    </tr>\n  </thead>\n  <tbody>\n    <tr>\n      <th>NB497</th>\n      <td>female</td>\n      <td>379</td>\n      <td>0.0</td>\n      <td>0.0</td>\n      <td>1</td>\n      <td>0.0</td>\n    </tr>\n    <tr>\n      <th>NB495</th>\n      <td>male</td>\n      <td>163</td>\n      <td>0.0</td>\n      <td>0.0</td>\n      <td>1</td>\n      <td>0.0</td>\n    </tr>\n    <tr>\n      <th>NB493</th>\n      <td>male</td>\n      <td>190</td>\n      <td>0.0</td>\n      <td>0.0</td>\n      <td>1</td>\n      <td>0.0</td>\n    </tr>\n    <tr>\n      <th>NB491</th>\n      <td>male</td>\n      <td>2326</td>\n      <td>0.0</td>\n      <td>1.0</td>\n      <td>4</td>\n      <td>1.0</td>\n    </tr>\n    <tr>\n      <th>NB489</th>\n      <td>female</td>\n      <td>865</td>\n      <td>0.0</td>\n      <td>1.0</td>\n      <td>4</td>\n      <td>0.0</td>\n    </tr>\n    <tr>\n      <th>NB487</th>\n      <td>male</td>\n      <td>162</td>\n      <td>0.0</td>\n      <td>1.0</td>\n      <td>4</td>\n      <td>0.0</td>\n    </tr>\n    <tr>\n      <th>NB485</th>\n      <td>female</td>\n      <td>712</td>\n      <td>0.0</td>\n      <td>1.0</td>\n      <td>3</td>\n      <td>0.0</td>\n    </tr>\n    <tr>\n      <th>NB483</th>\n      <td>female</td>\n      <td>259</td>\n      <td>0.0</td>\n      <td>0.0</td>\n      <td>1</td>\n      <td>1.0</td>\n    </tr>\n    <tr>\n      <th>NB481</th>\n      <td>male</td>\n      <td>2045</td>\n      <td>0.0</td>\n      <td>1.0</td>\n      <td>4</td>\n      <td>0.0</td>\n    </tr>\n    <tr>\n      <th>NB479</th>\n      <td>female</td>\n      <td>1516</td>\n      <td>0.0</td>\n      <td>0.0</td>\n      <td>1</td>\n      <td>0.0</td>\n    </tr>\n    <tr>\n      <th>NB477</th>\n      <td>male</td>\n      <td>323</td>\n      <td>0.0</td>\n      <td>0.0</td>\n      <td>3</td>\n      <td>0.0</td>\n    </tr>\n    <tr>\n      <th>NB475</th>\n      <td>male</td>\n      <td>1575</td>\n      <td>1.0</td>\n      <td>1.0</td>\n      <td>4</td>\n      <td>1.0</td>\n    </tr>\n    <tr>\n      <th>NB473</th>\n      <td>female</td>\n      <td>146</td>\n      <td>0.0</td>\n      <td>0.0</td>\n      <td>1</td>\n      <td>0.0</td>\n    </tr>\n    <tr>\n      <th>NB471</th>\n      <td>female</td>\n      <td>25</td>\n      <td>0.0</td>\n      <td>0.0</td>\n      <td>1</td>\n      <td>0.0</td>\n    </tr>\n    <tr>\n      <th>NB469</th>\n      <td>male</td>\n      <td>1022</td>\n      <td>0.0</td>\n      <td>1.0</td>\n      <td>4</td>\n      <td>1.0</td>\n    </tr>\n    <tr>\n      <th>NB467</th>\n      <td>male</td>\n      <td>2786</td>\n      <td>0.0</td>\n      <td>1.0</td>\n      <td>4</td>\n      <td>0.0</td>\n    </tr>\n    <tr>\n      <th>NB465</th>\n      <td>female</td>\n      <td>137</td>\n      <td>0.0</td>\n      <td>1.0</td>\n      <td>4</td>\n      <td>0.0</td>\n    </tr>\n    <tr>\n      <th>NB463</th>\n      <td>female</td>\n      <td>0</td>\n      <td>0.0</td>\n      <td>0.0</td>\n      <td>1</td>\n      <td>1.0</td>\n    </tr>\n    <tr>\n      <th>NB461</th>\n      <td>male</td>\n      <td>267</td>\n      <td>0.0</td>\n      <td>1.0</td>\n      <td>4</td>\n      <td>0.0</td>\n    </tr>\n    <tr>\n      <th>NB459</th>\n      <td>male</td>\n      <td>34</td>\n      <td>0.0</td>\n      <td>1.0</td>\n      <td>1</td>\n      <td>0.0</td>\n    </tr>\n  </tbody>\n</table>\n</div>"
     },
     "metadata": {},
     "execution_count": 51
    }
   ],
   "source": [
    "df_patient_info_train.head(20)"
   ]
  },
  {
   "cell_type": "code",
   "execution_count": 11,
   "metadata": {},
   "outputs": [
    {
     "output_type": "execute_result",
     "data": {
      "text/plain": [
       "      FactorValue..Sex.  FactorValue..age.at.diagnosis.  \\\n",
       "ID                                                        \n",
       "NB497            female                             379   \n",
       "NB495              male                             163   \n",
       "NB493              male                             190   \n",
       "NB491              male                            2326   \n",
       "NB489            female                             865   \n",
       "NB487              male                             162   \n",
       "NB485            female                             712   \n",
       "NB483            female                             259   \n",
       "NB481              male                            2045   \n",
       "NB479            female                            1516   \n",
       "\n",
       "       FactorValue..death.from.disease.  FactorValue..high.risk.  \\\n",
       "ID                                                                 \n",
       "NB497                               0.0                      0.0   \n",
       "NB495                               0.0                      0.0   \n",
       "NB493                               0.0                      0.0   \n",
       "NB491                               0.0                      1.0   \n",
       "NB489                               0.0                      1.0   \n",
       "NB487                               0.0                      1.0   \n",
       "NB485                               0.0                      1.0   \n",
       "NB483                               0.0                      0.0   \n",
       "NB481                               0.0                      1.0   \n",
       "NB479                               0.0                      0.0   \n",
       "\n",
       "      FactorValue..inss.stage.  FactorValue..progression.  36700 35332  40594  \\\n",
       "ID                                                                              \n",
       "NB497                        1                        0.0    8.4  6.62  11.84   \n",
       "NB495                        1                        0.0    9.1  6.06  11.55   \n",
       "NB493                        1                        0.0   8.44  4.86  11.65   \n",
       "NB491                        4                        1.0  10.07  4.52  10.33   \n",
       "NB489                        4                        0.0   9.04   3.5   9.68   \n",
       "NB487                        4                        0.0   8.13  3.07   9.94   \n",
       "NB485                        3                        0.0    8.1  7.46  10.39   \n",
       "NB483                        1                        1.0   8.17  3.98   9.52   \n",
       "NB481                        4                        0.0   8.39  4.91  10.81   \n",
       "NB479                        1                        0.0   7.92  3.64  10.58   \n",
       "\n",
       "        813  ...  44494  34963  42490  36855 42910 34175 44328  36747  43552  \\\n",
       "ID           ...                                                               \n",
       "NB497  3.28  ...  14.36   6.69  11.52  11.12  7.78  9.05  8.26  12.67  13.06   \n",
       "NB495  2.41  ...  14.22   6.75  11.54   10.5  7.45  8.96   9.1  12.84  13.62   \n",
       "NB493  2.58  ...  14.39   5.93  11.21  10.96  7.24  8.42   8.3  12.62  12.76   \n",
       "NB491  1.38  ...  13.39    4.8  11.43  10.63  6.43  7.22   7.5  12.77  11.75   \n",
       "NB489  3.32  ...  12.43      5  10.76  10.77  6.11  7.63  8.72     12  11.72   \n",
       "NB487  1.68  ...  13.03    4.6  11.25  10.67   6.1  7.87  8.62  12.38  12.17   \n",
       "NB485  1.54  ...  12.49    5.3   9.55   9.71  5.35  7.15  7.02  13.23   11.6   \n",
       "NB483  2.35  ...  13.08    8.8  10.85   9.61  7.43  7.69  8.39  12.27  12.17   \n",
       "NB481  3.26  ...   12.5   4.69  10.02   8.99  5.66  6.88  7.51  13.88  11.92   \n",
       "NB479  3.36  ...  11.83  10.62  10.11   8.74  5.94  8.29  5.44  11.61  12.48   \n",
       "\n",
       "       38595  \n",
       "ID            \n",
       "NB497   9.42  \n",
       "NB495   8.95  \n",
       "NB493   8.74  \n",
       "NB491   9.51  \n",
       "NB489   9.52  \n",
       "NB487   9.93  \n",
       "NB485   7.54  \n",
       "NB483   8.47  \n",
       "NB481  10.53  \n",
       "NB479   8.55  \n",
       "\n",
       "[10 rows x 23 columns]"
      ],
      "text/html": "<div>\n<style scoped>\n    .dataframe tbody tr th:only-of-type {\n        vertical-align: middle;\n    }\n\n    .dataframe tbody tr th {\n        vertical-align: top;\n    }\n\n    .dataframe thead th {\n        text-align: right;\n    }\n</style>\n<table border=\"1\" class=\"dataframe\">\n  <thead>\n    <tr style=\"text-align: right;\">\n      <th></th>\n      <th>FactorValue..Sex.</th>\n      <th>FactorValue..age.at.diagnosis.</th>\n      <th>FactorValue..death.from.disease.</th>\n      <th>FactorValue..high.risk.</th>\n      <th>FactorValue..inss.stage.</th>\n      <th>FactorValue..progression.</th>\n      <th>36700</th>\n      <th>35332</th>\n      <th>40594</th>\n      <th>813</th>\n      <th>...</th>\n      <th>44494</th>\n      <th>34963</th>\n      <th>42490</th>\n      <th>36855</th>\n      <th>42910</th>\n      <th>34175</th>\n      <th>44328</th>\n      <th>36747</th>\n      <th>43552</th>\n      <th>38595</th>\n    </tr>\n    <tr>\n      <th>ID</th>\n      <th></th>\n      <th></th>\n      <th></th>\n      <th></th>\n      <th></th>\n      <th></th>\n      <th></th>\n      <th></th>\n      <th></th>\n      <th></th>\n      <th></th>\n      <th></th>\n      <th></th>\n      <th></th>\n      <th></th>\n      <th></th>\n      <th></th>\n      <th></th>\n      <th></th>\n      <th></th>\n      <th></th>\n    </tr>\n  </thead>\n  <tbody>\n    <tr>\n      <th>NB497</th>\n      <td>female</td>\n      <td>379</td>\n      <td>0.0</td>\n      <td>0.0</td>\n      <td>1</td>\n      <td>0.0</td>\n      <td>8.4</td>\n      <td>6.62</td>\n      <td>11.84</td>\n      <td>3.28</td>\n      <td>...</td>\n      <td>14.36</td>\n      <td>6.69</td>\n      <td>11.52</td>\n      <td>11.12</td>\n      <td>7.78</td>\n      <td>9.05</td>\n      <td>8.26</td>\n      <td>12.67</td>\n      <td>13.06</td>\n      <td>9.42</td>\n    </tr>\n    <tr>\n      <th>NB495</th>\n      <td>male</td>\n      <td>163</td>\n      <td>0.0</td>\n      <td>0.0</td>\n      <td>1</td>\n      <td>0.0</td>\n      <td>9.1</td>\n      <td>6.06</td>\n      <td>11.55</td>\n      <td>2.41</td>\n      <td>...</td>\n      <td>14.22</td>\n      <td>6.75</td>\n      <td>11.54</td>\n      <td>10.5</td>\n      <td>7.45</td>\n      <td>8.96</td>\n      <td>9.1</td>\n      <td>12.84</td>\n      <td>13.62</td>\n      <td>8.95</td>\n    </tr>\n    <tr>\n      <th>NB493</th>\n      <td>male</td>\n      <td>190</td>\n      <td>0.0</td>\n      <td>0.0</td>\n      <td>1</td>\n      <td>0.0</td>\n      <td>8.44</td>\n      <td>4.86</td>\n      <td>11.65</td>\n      <td>2.58</td>\n      <td>...</td>\n      <td>14.39</td>\n      <td>5.93</td>\n      <td>11.21</td>\n      <td>10.96</td>\n      <td>7.24</td>\n      <td>8.42</td>\n      <td>8.3</td>\n      <td>12.62</td>\n      <td>12.76</td>\n      <td>8.74</td>\n    </tr>\n    <tr>\n      <th>NB491</th>\n      <td>male</td>\n      <td>2326</td>\n      <td>0.0</td>\n      <td>1.0</td>\n      <td>4</td>\n      <td>1.0</td>\n      <td>10.07</td>\n      <td>4.52</td>\n      <td>10.33</td>\n      <td>1.38</td>\n      <td>...</td>\n      <td>13.39</td>\n      <td>4.8</td>\n      <td>11.43</td>\n      <td>10.63</td>\n      <td>6.43</td>\n      <td>7.22</td>\n      <td>7.5</td>\n      <td>12.77</td>\n      <td>11.75</td>\n      <td>9.51</td>\n    </tr>\n    <tr>\n      <th>NB489</th>\n      <td>female</td>\n      <td>865</td>\n      <td>0.0</td>\n      <td>1.0</td>\n      <td>4</td>\n      <td>0.0</td>\n      <td>9.04</td>\n      <td>3.5</td>\n      <td>9.68</td>\n      <td>3.32</td>\n      <td>...</td>\n      <td>12.43</td>\n      <td>5</td>\n      <td>10.76</td>\n      <td>10.77</td>\n      <td>6.11</td>\n      <td>7.63</td>\n      <td>8.72</td>\n      <td>12</td>\n      <td>11.72</td>\n      <td>9.52</td>\n    </tr>\n    <tr>\n      <th>NB487</th>\n      <td>male</td>\n      <td>162</td>\n      <td>0.0</td>\n      <td>1.0</td>\n      <td>4</td>\n      <td>0.0</td>\n      <td>8.13</td>\n      <td>3.07</td>\n      <td>9.94</td>\n      <td>1.68</td>\n      <td>...</td>\n      <td>13.03</td>\n      <td>4.6</td>\n      <td>11.25</td>\n      <td>10.67</td>\n      <td>6.1</td>\n      <td>7.87</td>\n      <td>8.62</td>\n      <td>12.38</td>\n      <td>12.17</td>\n      <td>9.93</td>\n    </tr>\n    <tr>\n      <th>NB485</th>\n      <td>female</td>\n      <td>712</td>\n      <td>0.0</td>\n      <td>1.0</td>\n      <td>3</td>\n      <td>0.0</td>\n      <td>8.1</td>\n      <td>7.46</td>\n      <td>10.39</td>\n      <td>1.54</td>\n      <td>...</td>\n      <td>12.49</td>\n      <td>5.3</td>\n      <td>9.55</td>\n      <td>9.71</td>\n      <td>5.35</td>\n      <td>7.15</td>\n      <td>7.02</td>\n      <td>13.23</td>\n      <td>11.6</td>\n      <td>7.54</td>\n    </tr>\n    <tr>\n      <th>NB483</th>\n      <td>female</td>\n      <td>259</td>\n      <td>0.0</td>\n      <td>0.0</td>\n      <td>1</td>\n      <td>1.0</td>\n      <td>8.17</td>\n      <td>3.98</td>\n      <td>9.52</td>\n      <td>2.35</td>\n      <td>...</td>\n      <td>13.08</td>\n      <td>8.8</td>\n      <td>10.85</td>\n      <td>9.61</td>\n      <td>7.43</td>\n      <td>7.69</td>\n      <td>8.39</td>\n      <td>12.27</td>\n      <td>12.17</td>\n      <td>8.47</td>\n    </tr>\n    <tr>\n      <th>NB481</th>\n      <td>male</td>\n      <td>2045</td>\n      <td>0.0</td>\n      <td>1.0</td>\n      <td>4</td>\n      <td>0.0</td>\n      <td>8.39</td>\n      <td>4.91</td>\n      <td>10.81</td>\n      <td>3.26</td>\n      <td>...</td>\n      <td>12.5</td>\n      <td>4.69</td>\n      <td>10.02</td>\n      <td>8.99</td>\n      <td>5.66</td>\n      <td>6.88</td>\n      <td>7.51</td>\n      <td>13.88</td>\n      <td>11.92</td>\n      <td>10.53</td>\n    </tr>\n    <tr>\n      <th>NB479</th>\n      <td>female</td>\n      <td>1516</td>\n      <td>0.0</td>\n      <td>0.0</td>\n      <td>1</td>\n      <td>0.0</td>\n      <td>7.92</td>\n      <td>3.64</td>\n      <td>10.58</td>\n      <td>3.36</td>\n      <td>...</td>\n      <td>11.83</td>\n      <td>10.62</td>\n      <td>10.11</td>\n      <td>8.74</td>\n      <td>5.94</td>\n      <td>8.29</td>\n      <td>5.44</td>\n      <td>11.61</td>\n      <td>12.48</td>\n      <td>8.55</td>\n    </tr>\n  </tbody>\n</table>\n<p>10 rows × 23 columns</p>\n</div>"
     },
     "metadata": {},
     "execution_count": 11
    }
   ],
   "source": [
    "train_on_genes = df_patient_info_train.join(tp_gene_of_i, on=\"ID\")\n",
    "train_on_genes.head(10)"
   ]
  },
  {
   "cell_type": "code",
   "execution_count": 12,
   "metadata": {},
   "outputs": [
    {
     "output_type": "execute_result",
     "data": {
      "text/plain": [
       "FactorValues FactorValue..Sex.  FactorValue..age.at.diagnosis.  \\\n",
       "ID                                                               \n",
       "NB498                   female                             530   \n",
       "NB496                     male                             132   \n",
       "NB494                     male                              56   \n",
       "NB492                     male                             947   \n",
       "NB490                   female                            1759   \n",
       "\n",
       "FactorValues  FactorValue..death.from.disease.  FactorValue..high.risk.  \\\n",
       "ID                                                                        \n",
       "NB498                                      NaN                      NaN   \n",
       "NB496                                      NaN                      NaN   \n",
       "NB494                                      NaN                      NaN   \n",
       "NB492                                      NaN                      NaN   \n",
       "NB490                                      NaN                      NaN   \n",
       "\n",
       "FactorValues FactorValue..inss.stage.  FactorValue..progression.  \n",
       "ID                                                                \n",
       "NB498                             NaN                        NaN  \n",
       "NB496                             NaN                        NaN  \n",
       "NB494                             NaN                        NaN  \n",
       "NB492                             NaN                        NaN  \n",
       "NB490                             NaN                        NaN  "
      ],
      "text/html": "<div>\n<style scoped>\n    .dataframe tbody tr th:only-of-type {\n        vertical-align: middle;\n    }\n\n    .dataframe tbody tr th {\n        vertical-align: top;\n    }\n\n    .dataframe thead th {\n        text-align: right;\n    }\n</style>\n<table border=\"1\" class=\"dataframe\">\n  <thead>\n    <tr style=\"text-align: right;\">\n      <th>FactorValues</th>\n      <th>FactorValue..Sex.</th>\n      <th>FactorValue..age.at.diagnosis.</th>\n      <th>FactorValue..death.from.disease.</th>\n      <th>FactorValue..high.risk.</th>\n      <th>FactorValue..inss.stage.</th>\n      <th>FactorValue..progression.</th>\n    </tr>\n    <tr>\n      <th>ID</th>\n      <th></th>\n      <th></th>\n      <th></th>\n      <th></th>\n      <th></th>\n      <th></th>\n    </tr>\n  </thead>\n  <tbody>\n    <tr>\n      <th>NB498</th>\n      <td>female</td>\n      <td>530</td>\n      <td>NaN</td>\n      <td>NaN</td>\n      <td>NaN</td>\n      <td>NaN</td>\n    </tr>\n    <tr>\n      <th>NB496</th>\n      <td>male</td>\n      <td>132</td>\n      <td>NaN</td>\n      <td>NaN</td>\n      <td>NaN</td>\n      <td>NaN</td>\n    </tr>\n    <tr>\n      <th>NB494</th>\n      <td>male</td>\n      <td>56</td>\n      <td>NaN</td>\n      <td>NaN</td>\n      <td>NaN</td>\n      <td>NaN</td>\n    </tr>\n    <tr>\n      <th>NB492</th>\n      <td>male</td>\n      <td>947</td>\n      <td>NaN</td>\n      <td>NaN</td>\n      <td>NaN</td>\n      <td>NaN</td>\n    </tr>\n    <tr>\n      <th>NB490</th>\n      <td>female</td>\n      <td>1759</td>\n      <td>NaN</td>\n      <td>NaN</td>\n      <td>NaN</td>\n      <td>NaN</td>\n    </tr>\n  </tbody>\n</table>\n</div>"
     },
     "metadata": {},
     "execution_count": 12
    }
   ],
   "source": [
    "df_patient_info_test.head()"
   ]
  },
  {
   "cell_type": "code",
   "execution_count": 13,
   "metadata": {},
   "outputs": [
    {
     "output_type": "execute_result",
     "data": {
      "text/plain": [
       "      FactorValue..Sex.  FactorValue..age.at.diagnosis.  \\\n",
       "ID                                                        \n",
       "NB498            female                             530   \n",
       "NB496              male                             132   \n",
       "NB494              male                              56   \n",
       "NB492              male                             947   \n",
       "NB490            female                            1759   \n",
       "NB488            female                             212   \n",
       "NB486              male                             478   \n",
       "NB484            female                            1546   \n",
       "NB482              male                             465   \n",
       "NB480              male                            1897   \n",
       "\n",
       "       FactorValue..death.from.disease.  FactorValue..high.risk.  \\\n",
       "ID                                                                 \n",
       "NB498                               NaN                      NaN   \n",
       "NB496                               NaN                      NaN   \n",
       "NB494                               NaN                      NaN   \n",
       "NB492                               NaN                      NaN   \n",
       "NB490                               NaN                      NaN   \n",
       "NB488                               NaN                      NaN   \n",
       "NB486                               NaN                      NaN   \n",
       "NB484                               NaN                      NaN   \n",
       "NB482                               NaN                      NaN   \n",
       "NB480                               NaN                      NaN   \n",
       "\n",
       "      FactorValue..inss.stage.  FactorValue..progression. 36700 35332  40594  \\\n",
       "ID                                                                             \n",
       "NB498                      NaN                        NaN   8.5  7.09  10.88   \n",
       "NB496                      NaN                        NaN  8.84  4.15   11.4   \n",
       "NB494                      NaN                        NaN  8.72  5.28  10.91   \n",
       "NB492                      NaN                        NaN  8.59   4.9   9.27   \n",
       "NB490                      NaN                        NaN  7.95  5.43    8.6   \n",
       "NB488                      NaN                        NaN  8.32  4.43   9.57   \n",
       "NB486                      NaN                        NaN  9.19  5.28  11.12   \n",
       "NB484                      NaN                        NaN  7.74  3.78   9.44   \n",
       "NB482                      NaN                        NaN  9.36   7.4  11.35   \n",
       "NB480                      NaN                        NaN  8.91  5.21  11.36   \n",
       "\n",
       "        813  ...  44494 34963  42490  36855 42910 34175 44328  36747  43552  \\\n",
       "ID           ...                                                              \n",
       "NB498  3.81  ...  13.47  9.71  10.97  10.48  7.42     9  7.66  11.97  11.87   \n",
       "NB496  3.64  ...  14.08   6.2  11.42  10.68  8.15  8.61  8.54  12.46  12.13   \n",
       "NB494  3.79  ...  13.89     5  10.82  10.09  7.42  8.75  8.43  12.88  13.44   \n",
       "NB492  2.07  ...  12.62  5.43  10.98  10.23  5.46  7.83   8.8  12.79   11.7   \n",
       "NB490  0.58  ...   12.6  3.55   9.21  10.14  6.39  8.36  7.34  12.82  11.09   \n",
       "NB488  1.58  ...   12.7  3.99   9.32  10.13  4.72  7.84  5.09  11.95  11.14   \n",
       "NB486  2.61  ...  14.11  5.08  11.26  10.58  6.72  6.94  8.41  13.95  13.38   \n",
       "NB484     2  ...  11.95  3.64   9.19   8.99   4.6  6.08  6.97  12.56   11.2   \n",
       "NB482  2.68  ...  14.19  4.71  11.23  10.62  7.23  9.12  8.32  13.26  13.08   \n",
       "NB480  1.81  ...  13.58  1.58  10.47  10.68  5.11  7.13  7.29     13  11.73   \n",
       "\n",
       "      38595  \n",
       "ID           \n",
       "NB498   8.6  \n",
       "NB496  9.05  \n",
       "NB494   8.7  \n",
       "NB492  9.32  \n",
       "NB490  9.16  \n",
       "NB488  8.35  \n",
       "NB486  9.14  \n",
       "NB484  7.51  \n",
       "NB482  9.03  \n",
       "NB480   9.5  \n",
       "\n",
       "[10 rows x 23 columns]"
      ],
      "text/html": "<div>\n<style scoped>\n    .dataframe tbody tr th:only-of-type {\n        vertical-align: middle;\n    }\n\n    .dataframe tbody tr th {\n        vertical-align: top;\n    }\n\n    .dataframe thead th {\n        text-align: right;\n    }\n</style>\n<table border=\"1\" class=\"dataframe\">\n  <thead>\n    <tr style=\"text-align: right;\">\n      <th></th>\n      <th>FactorValue..Sex.</th>\n      <th>FactorValue..age.at.diagnosis.</th>\n      <th>FactorValue..death.from.disease.</th>\n      <th>FactorValue..high.risk.</th>\n      <th>FactorValue..inss.stage.</th>\n      <th>FactorValue..progression.</th>\n      <th>36700</th>\n      <th>35332</th>\n      <th>40594</th>\n      <th>813</th>\n      <th>...</th>\n      <th>44494</th>\n      <th>34963</th>\n      <th>42490</th>\n      <th>36855</th>\n      <th>42910</th>\n      <th>34175</th>\n      <th>44328</th>\n      <th>36747</th>\n      <th>43552</th>\n      <th>38595</th>\n    </tr>\n    <tr>\n      <th>ID</th>\n      <th></th>\n      <th></th>\n      <th></th>\n      <th></th>\n      <th></th>\n      <th></th>\n      <th></th>\n      <th></th>\n      <th></th>\n      <th></th>\n      <th></th>\n      <th></th>\n      <th></th>\n      <th></th>\n      <th></th>\n      <th></th>\n      <th></th>\n      <th></th>\n      <th></th>\n      <th></th>\n      <th></th>\n    </tr>\n  </thead>\n  <tbody>\n    <tr>\n      <th>NB498</th>\n      <td>female</td>\n      <td>530</td>\n      <td>NaN</td>\n      <td>NaN</td>\n      <td>NaN</td>\n      <td>NaN</td>\n      <td>8.5</td>\n      <td>7.09</td>\n      <td>10.88</td>\n      <td>3.81</td>\n      <td>...</td>\n      <td>13.47</td>\n      <td>9.71</td>\n      <td>10.97</td>\n      <td>10.48</td>\n      <td>7.42</td>\n      <td>9</td>\n      <td>7.66</td>\n      <td>11.97</td>\n      <td>11.87</td>\n      <td>8.6</td>\n    </tr>\n    <tr>\n      <th>NB496</th>\n      <td>male</td>\n      <td>132</td>\n      <td>NaN</td>\n      <td>NaN</td>\n      <td>NaN</td>\n      <td>NaN</td>\n      <td>8.84</td>\n      <td>4.15</td>\n      <td>11.4</td>\n      <td>3.64</td>\n      <td>...</td>\n      <td>14.08</td>\n      <td>6.2</td>\n      <td>11.42</td>\n      <td>10.68</td>\n      <td>8.15</td>\n      <td>8.61</td>\n      <td>8.54</td>\n      <td>12.46</td>\n      <td>12.13</td>\n      <td>9.05</td>\n    </tr>\n    <tr>\n      <th>NB494</th>\n      <td>male</td>\n      <td>56</td>\n      <td>NaN</td>\n      <td>NaN</td>\n      <td>NaN</td>\n      <td>NaN</td>\n      <td>8.72</td>\n      <td>5.28</td>\n      <td>10.91</td>\n      <td>3.79</td>\n      <td>...</td>\n      <td>13.89</td>\n      <td>5</td>\n      <td>10.82</td>\n      <td>10.09</td>\n      <td>7.42</td>\n      <td>8.75</td>\n      <td>8.43</td>\n      <td>12.88</td>\n      <td>13.44</td>\n      <td>8.7</td>\n    </tr>\n    <tr>\n      <th>NB492</th>\n      <td>male</td>\n      <td>947</td>\n      <td>NaN</td>\n      <td>NaN</td>\n      <td>NaN</td>\n      <td>NaN</td>\n      <td>8.59</td>\n      <td>4.9</td>\n      <td>9.27</td>\n      <td>2.07</td>\n      <td>...</td>\n      <td>12.62</td>\n      <td>5.43</td>\n      <td>10.98</td>\n      <td>10.23</td>\n      <td>5.46</td>\n      <td>7.83</td>\n      <td>8.8</td>\n      <td>12.79</td>\n      <td>11.7</td>\n      <td>9.32</td>\n    </tr>\n    <tr>\n      <th>NB490</th>\n      <td>female</td>\n      <td>1759</td>\n      <td>NaN</td>\n      <td>NaN</td>\n      <td>NaN</td>\n      <td>NaN</td>\n      <td>7.95</td>\n      <td>5.43</td>\n      <td>8.6</td>\n      <td>0.58</td>\n      <td>...</td>\n      <td>12.6</td>\n      <td>3.55</td>\n      <td>9.21</td>\n      <td>10.14</td>\n      <td>6.39</td>\n      <td>8.36</td>\n      <td>7.34</td>\n      <td>12.82</td>\n      <td>11.09</td>\n      <td>9.16</td>\n    </tr>\n    <tr>\n      <th>NB488</th>\n      <td>female</td>\n      <td>212</td>\n      <td>NaN</td>\n      <td>NaN</td>\n      <td>NaN</td>\n      <td>NaN</td>\n      <td>8.32</td>\n      <td>4.43</td>\n      <td>9.57</td>\n      <td>1.58</td>\n      <td>...</td>\n      <td>12.7</td>\n      <td>3.99</td>\n      <td>9.32</td>\n      <td>10.13</td>\n      <td>4.72</td>\n      <td>7.84</td>\n      <td>5.09</td>\n      <td>11.95</td>\n      <td>11.14</td>\n      <td>8.35</td>\n    </tr>\n    <tr>\n      <th>NB486</th>\n      <td>male</td>\n      <td>478</td>\n      <td>NaN</td>\n      <td>NaN</td>\n      <td>NaN</td>\n      <td>NaN</td>\n      <td>9.19</td>\n      <td>5.28</td>\n      <td>11.12</td>\n      <td>2.61</td>\n      <td>...</td>\n      <td>14.11</td>\n      <td>5.08</td>\n      <td>11.26</td>\n      <td>10.58</td>\n      <td>6.72</td>\n      <td>6.94</td>\n      <td>8.41</td>\n      <td>13.95</td>\n      <td>13.38</td>\n      <td>9.14</td>\n    </tr>\n    <tr>\n      <th>NB484</th>\n      <td>female</td>\n      <td>1546</td>\n      <td>NaN</td>\n      <td>NaN</td>\n      <td>NaN</td>\n      <td>NaN</td>\n      <td>7.74</td>\n      <td>3.78</td>\n      <td>9.44</td>\n      <td>2</td>\n      <td>...</td>\n      <td>11.95</td>\n      <td>3.64</td>\n      <td>9.19</td>\n      <td>8.99</td>\n      <td>4.6</td>\n      <td>6.08</td>\n      <td>6.97</td>\n      <td>12.56</td>\n      <td>11.2</td>\n      <td>7.51</td>\n    </tr>\n    <tr>\n      <th>NB482</th>\n      <td>male</td>\n      <td>465</td>\n      <td>NaN</td>\n      <td>NaN</td>\n      <td>NaN</td>\n      <td>NaN</td>\n      <td>9.36</td>\n      <td>7.4</td>\n      <td>11.35</td>\n      <td>2.68</td>\n      <td>...</td>\n      <td>14.19</td>\n      <td>4.71</td>\n      <td>11.23</td>\n      <td>10.62</td>\n      <td>7.23</td>\n      <td>9.12</td>\n      <td>8.32</td>\n      <td>13.26</td>\n      <td>13.08</td>\n      <td>9.03</td>\n    </tr>\n    <tr>\n      <th>NB480</th>\n      <td>male</td>\n      <td>1897</td>\n      <td>NaN</td>\n      <td>NaN</td>\n      <td>NaN</td>\n      <td>NaN</td>\n      <td>8.91</td>\n      <td>5.21</td>\n      <td>11.36</td>\n      <td>1.81</td>\n      <td>...</td>\n      <td>13.58</td>\n      <td>1.58</td>\n      <td>10.47</td>\n      <td>10.68</td>\n      <td>5.11</td>\n      <td>7.13</td>\n      <td>7.29</td>\n      <td>13</td>\n      <td>11.73</td>\n      <td>9.5</td>\n    </tr>\n  </tbody>\n</table>\n<p>10 rows × 23 columns</p>\n</div>"
     },
     "metadata": {},
     "execution_count": 13
    }
   ],
   "source": [
    "test_on_genes = df_patient_info_test.join(tp_gene_of_i, on=\"ID\")\n",
    "test_on_genes.head(10)"
   ]
  },
  {
   "cell_type": "markdown",
   "metadata": {},
   "source": [
    "## Analysis\n",
    "\n",
    "From here on, you will need to use your skills ...\n",
    "\n",
    "### Note:\n",
    "To be clear, there are **multiple** target features/attributes to predict. Say you want to build a model predicting **death from disease** of a patient, your target variable is ```'FactorValue..death.from.disease.'``` and the corresponding target vector <em>y</em> would be as follows:\n",
    "\n",
    "```python\n",
    "y_train = df_patient_info_train['FactorValue..death.from.disease.'].astype(int)\n",
    "```\n",
    "Taking the other data into account (RNASeq or microarray) as ``` X_train``` (you will have to preprocess and split this information yourselves), you could for example build a random forest model:\n",
    "\n",
    "```python\n",
    "from sklearn.ensemble import RandomForestClassifier\n",
    "random_f_model_death = random_f_model = RandomForestClassifier() \n",
    "random_f_model_death.fit(X_train,y_train)\n",
    "```\n",
    "and predict ```y_test``` using ```X_test```. \n",
    "\n",
    "Obviously, you want to avoid any overfitting and might want to use appropriate validation approaches. \n",
    "\n",
    "Once you have your model and the prediction for the test data, you should be able to fill the ```'FactorValue..death.from.disease.'``` column in the test set. \n",
    "\n",
    "For the submission, please also include the confidence/probability/score for each of the prediction (assume ```1``` to be the value for the positive class). This only applies to the factors:  **high risk**, **progression** and **death from disease** . \n",
    "\n",
    "The other two factors need to be treated differently. \n",
    "\n",
    "More information on how to submit the results will follow. \n",
    "\n",
    "Using this very rough outline, you should be able to predict all factors in the test data. \n",
    "\n",
    "\n",
    "\n",
    "\n",
    "\n",
    "\n",
    "\n",
    "\n",
    "\n"
   ]
  },
  {
   "cell_type": "code",
   "execution_count": 14,
   "metadata": {},
   "outputs": [],
   "source": [
    "from sklearn.ensemble import RandomForestClassifier\n",
    "from sklearn.impute import KNNImputer\n",
    "from sklearn.model_selection import cross_val_score\n",
    "from sklearn.model_selection import RepeatedStratifiedKFold\n",
    "from sklearn.pipeline import Pipeline"
   ]
  },
  {
   "cell_type": "code",
   "execution_count": 15,
   "metadata": {},
   "outputs": [],
   "source": [
    "imputer = KNNImputer(n_neighbors=5, weights='uniform')"
   ]
  },
  {
   "cell_type": "code",
   "execution_count": 17,
   "metadata": {},
   "outputs": [
    {
     "output_type": "error",
     "ename": "ValueError",
     "evalue": "could not convert string to float: 'female'",
     "traceback": [
      "\u001b[0;31m---------------------------------------------------------------------------\u001b[0m",
      "\u001b[0;31mValueError\u001b[0m                                Traceback (most recent call last)",
      "\u001b[0;32m<ipython-input-17-bd845b267cae>\u001b[0m in \u001b[0;36m<module>\u001b[0;34m\u001b[0m\n\u001b[0;32m----> 1\u001b[0;31m \u001b[0mimputer\u001b[0m\u001b[0;34m.\u001b[0m\u001b[0mfit\u001b[0m\u001b[0;34m(\u001b[0m\u001b[0mtrain_on_genes\u001b[0m\u001b[0;34m,\u001b[0m \u001b[0mtest_on_genes\u001b[0m\u001b[0;34m)\u001b[0m\u001b[0;34m\u001b[0m\u001b[0;34m\u001b[0m\u001b[0m\n\u001b[0m",
      "\u001b[0;32m~/anaconda3/lib/python3.8/site-packages/sklearn/impute/_knn.py\u001b[0m in \u001b[0;36mfit\u001b[0;34m(self, X, y)\u001b[0m\n\u001b[1;32m    182\u001b[0m                 \"Expected n_neighbors > 0. Got {}\".format(self.n_neighbors))\n\u001b[1;32m    183\u001b[0m \u001b[0;34m\u001b[0m\u001b[0m\n\u001b[0;32m--> 184\u001b[0;31m         X = self._validate_data(X, accept_sparse=False, dtype=FLOAT_DTYPES,\n\u001b[0m\u001b[1;32m    185\u001b[0m                                 \u001b[0mforce_all_finite\u001b[0m\u001b[0;34m=\u001b[0m\u001b[0mforce_all_finite\u001b[0m\u001b[0;34m,\u001b[0m\u001b[0;34m\u001b[0m\u001b[0;34m\u001b[0m\u001b[0m\n\u001b[1;32m    186\u001b[0m                                 copy=self.copy)\n",
      "\u001b[0;32m~/anaconda3/lib/python3.8/site-packages/sklearn/base.py\u001b[0m in \u001b[0;36m_validate_data\u001b[0;34m(self, X, y, reset, validate_separately, **check_params)\u001b[0m\n\u001b[1;32m    418\u001b[0m                     \u001b[0;34mf\"requires y to be passed, but the target y is None.\"\u001b[0m\u001b[0;34m\u001b[0m\u001b[0;34m\u001b[0m\u001b[0m\n\u001b[1;32m    419\u001b[0m                 )\n\u001b[0;32m--> 420\u001b[0;31m             \u001b[0mX\u001b[0m \u001b[0;34m=\u001b[0m \u001b[0mcheck_array\u001b[0m\u001b[0;34m(\u001b[0m\u001b[0mX\u001b[0m\u001b[0;34m,\u001b[0m \u001b[0;34m**\u001b[0m\u001b[0mcheck_params\u001b[0m\u001b[0;34m)\u001b[0m\u001b[0;34m\u001b[0m\u001b[0;34m\u001b[0m\u001b[0m\n\u001b[0m\u001b[1;32m    421\u001b[0m             \u001b[0mout\u001b[0m \u001b[0;34m=\u001b[0m \u001b[0mX\u001b[0m\u001b[0;34m\u001b[0m\u001b[0;34m\u001b[0m\u001b[0m\n\u001b[1;32m    422\u001b[0m         \u001b[0;32melse\u001b[0m\u001b[0;34m:\u001b[0m\u001b[0;34m\u001b[0m\u001b[0;34m\u001b[0m\u001b[0m\n",
      "\u001b[0;32m~/anaconda3/lib/python3.8/site-packages/sklearn/utils/validation.py\u001b[0m in \u001b[0;36minner_f\u001b[0;34m(*args, **kwargs)\u001b[0m\n\u001b[1;32m     71\u001b[0m                           FutureWarning)\n\u001b[1;32m     72\u001b[0m         \u001b[0mkwargs\u001b[0m\u001b[0;34m.\u001b[0m\u001b[0mupdate\u001b[0m\u001b[0;34m(\u001b[0m\u001b[0;34m{\u001b[0m\u001b[0mk\u001b[0m\u001b[0;34m:\u001b[0m \u001b[0marg\u001b[0m \u001b[0;32mfor\u001b[0m \u001b[0mk\u001b[0m\u001b[0;34m,\u001b[0m \u001b[0marg\u001b[0m \u001b[0;32min\u001b[0m \u001b[0mzip\u001b[0m\u001b[0;34m(\u001b[0m\u001b[0msig\u001b[0m\u001b[0;34m.\u001b[0m\u001b[0mparameters\u001b[0m\u001b[0;34m,\u001b[0m \u001b[0margs\u001b[0m\u001b[0;34m)\u001b[0m\u001b[0;34m}\u001b[0m\u001b[0;34m)\u001b[0m\u001b[0;34m\u001b[0m\u001b[0;34m\u001b[0m\u001b[0m\n\u001b[0;32m---> 73\u001b[0;31m         \u001b[0;32mreturn\u001b[0m \u001b[0mf\u001b[0m\u001b[0;34m(\u001b[0m\u001b[0;34m**\u001b[0m\u001b[0mkwargs\u001b[0m\u001b[0;34m)\u001b[0m\u001b[0;34m\u001b[0m\u001b[0;34m\u001b[0m\u001b[0m\n\u001b[0m\u001b[1;32m     74\u001b[0m     \u001b[0;32mreturn\u001b[0m \u001b[0minner_f\u001b[0m\u001b[0;34m\u001b[0m\u001b[0;34m\u001b[0m\u001b[0m\n\u001b[1;32m     75\u001b[0m \u001b[0;34m\u001b[0m\u001b[0m\n",
      "\u001b[0;32m~/anaconda3/lib/python3.8/site-packages/sklearn/utils/validation.py\u001b[0m in \u001b[0;36mcheck_array\u001b[0;34m(array, accept_sparse, accept_large_sparse, dtype, order, copy, force_all_finite, ensure_2d, allow_nd, ensure_min_samples, ensure_min_features, estimator)\u001b[0m\n\u001b[1;32m    597\u001b[0m                     \u001b[0marray\u001b[0m \u001b[0;34m=\u001b[0m \u001b[0marray\u001b[0m\u001b[0;34m.\u001b[0m\u001b[0mastype\u001b[0m\u001b[0;34m(\u001b[0m\u001b[0mdtype\u001b[0m\u001b[0;34m,\u001b[0m \u001b[0mcasting\u001b[0m\u001b[0;34m=\u001b[0m\u001b[0;34m\"unsafe\"\u001b[0m\u001b[0;34m,\u001b[0m \u001b[0mcopy\u001b[0m\u001b[0;34m=\u001b[0m\u001b[0;32mFalse\u001b[0m\u001b[0;34m)\u001b[0m\u001b[0;34m\u001b[0m\u001b[0;34m\u001b[0m\u001b[0m\n\u001b[1;32m    598\u001b[0m                 \u001b[0;32melse\u001b[0m\u001b[0;34m:\u001b[0m\u001b[0;34m\u001b[0m\u001b[0;34m\u001b[0m\u001b[0m\n\u001b[0;32m--> 599\u001b[0;31m                     \u001b[0marray\u001b[0m \u001b[0;34m=\u001b[0m \u001b[0mnp\u001b[0m\u001b[0;34m.\u001b[0m\u001b[0masarray\u001b[0m\u001b[0;34m(\u001b[0m\u001b[0marray\u001b[0m\u001b[0;34m,\u001b[0m \u001b[0morder\u001b[0m\u001b[0;34m=\u001b[0m\u001b[0morder\u001b[0m\u001b[0;34m,\u001b[0m \u001b[0mdtype\u001b[0m\u001b[0;34m=\u001b[0m\u001b[0mdtype\u001b[0m\u001b[0;34m)\u001b[0m\u001b[0;34m\u001b[0m\u001b[0;34m\u001b[0m\u001b[0m\n\u001b[0m\u001b[1;32m    600\u001b[0m             \u001b[0;32mexcept\u001b[0m \u001b[0mComplexWarning\u001b[0m\u001b[0;34m:\u001b[0m\u001b[0;34m\u001b[0m\u001b[0;34m\u001b[0m\u001b[0m\n\u001b[1;32m    601\u001b[0m                 raise ValueError(\"Complex data not supported\\n\"\n",
      "\u001b[0;32m~/anaconda3/lib/python3.8/site-packages/numpy/core/_asarray.py\u001b[0m in \u001b[0;36masarray\u001b[0;34m(a, dtype, order)\u001b[0m\n\u001b[1;32m     83\u001b[0m \u001b[0;34m\u001b[0m\u001b[0m\n\u001b[1;32m     84\u001b[0m     \"\"\"\n\u001b[0;32m---> 85\u001b[0;31m     \u001b[0;32mreturn\u001b[0m \u001b[0marray\u001b[0m\u001b[0;34m(\u001b[0m\u001b[0ma\u001b[0m\u001b[0;34m,\u001b[0m \u001b[0mdtype\u001b[0m\u001b[0;34m,\u001b[0m \u001b[0mcopy\u001b[0m\u001b[0;34m=\u001b[0m\u001b[0;32mFalse\u001b[0m\u001b[0;34m,\u001b[0m \u001b[0morder\u001b[0m\u001b[0;34m=\u001b[0m\u001b[0morder\u001b[0m\u001b[0;34m)\u001b[0m\u001b[0;34m\u001b[0m\u001b[0;34m\u001b[0m\u001b[0m\n\u001b[0m\u001b[1;32m     86\u001b[0m \u001b[0;34m\u001b[0m\u001b[0m\n\u001b[1;32m     87\u001b[0m \u001b[0;34m\u001b[0m\u001b[0m\n",
      "\u001b[0;31mValueError\u001b[0m: could not convert string to float: 'female'"
     ]
    }
   ],
   "source": [
    "imputer.fit(train_on_genes, test_on_genes)"
   ]
  },
  {
   "cell_type": "code",
   "execution_count": null,
   "metadata": {},
   "outputs": [],
   "source": []
  }
 ],
 "metadata": {
  "kernelspec": {
   "name": "python3",
   "display_name": "Python 3.8.3 64-bit ('base': conda)",
   "metadata": {
    "interpreter": {
     "hash": "43dc8617aeb403d1d97fce360fbc17cc0fe29ed8bc99d6b9c6b62cb31ad4a436"
    }
   }
  },
  "language_info": {
   "codemirror_mode": {
    "name": "ipython",
    "version": 3
   },
   "file_extension": ".py",
   "mimetype": "text/x-python",
   "name": "python",
   "nbconvert_exporter": "python",
   "pygments_lexer": "ipython3",
   "version": "3.8.3-final"
  }
 },
 "nbformat": 4,
 "nbformat_minor": 4
}